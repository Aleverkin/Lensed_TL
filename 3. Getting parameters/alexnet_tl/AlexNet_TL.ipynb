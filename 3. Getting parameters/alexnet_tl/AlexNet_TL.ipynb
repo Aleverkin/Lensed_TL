{
 "cells": [
  {
   "cell_type": "code",
   "execution_count": 2,
   "metadata": {},
   "outputs": [
    {
     "name": "stderr",
     "output_type": "stream",
     "text": [
      "C:\\Users\\fedor\\.conda\\envs\\tf-gpu\\lib\\site-packages\\tensorflow\\python\\framework\\dtypes.py:516: FutureWarning: Passing (type, 1) or '1type' as a synonym of type is deprecated; in a future version of numpy, it will be understood as (type, (1,)) / '(1,)type'.\n",
      "  _np_qint8 = np.dtype([(\"qint8\", np.int8, 1)])\n",
      "C:\\Users\\fedor\\.conda\\envs\\tf-gpu\\lib\\site-packages\\tensorflow\\python\\framework\\dtypes.py:517: FutureWarning: Passing (type, 1) or '1type' as a synonym of type is deprecated; in a future version of numpy, it will be understood as (type, (1,)) / '(1,)type'.\n",
      "  _np_quint8 = np.dtype([(\"quint8\", np.uint8, 1)])\n",
      "C:\\Users\\fedor\\.conda\\envs\\tf-gpu\\lib\\site-packages\\tensorflow\\python\\framework\\dtypes.py:518: FutureWarning: Passing (type, 1) or '1type' as a synonym of type is deprecated; in a future version of numpy, it will be understood as (type, (1,)) / '(1,)type'.\n",
      "  _np_qint16 = np.dtype([(\"qint16\", np.int16, 1)])\n",
      "C:\\Users\\fedor\\.conda\\envs\\tf-gpu\\lib\\site-packages\\tensorflow\\python\\framework\\dtypes.py:519: FutureWarning: Passing (type, 1) or '1type' as a synonym of type is deprecated; in a future version of numpy, it will be understood as (type, (1,)) / '(1,)type'.\n",
      "  _np_quint16 = np.dtype([(\"quint16\", np.uint16, 1)])\n",
      "C:\\Users\\fedor\\.conda\\envs\\tf-gpu\\lib\\site-packages\\tensorflow\\python\\framework\\dtypes.py:520: FutureWarning: Passing (type, 1) or '1type' as a synonym of type is deprecated; in a future version of numpy, it will be understood as (type, (1,)) / '(1,)type'.\n",
      "  _np_qint32 = np.dtype([(\"qint32\", np.int32, 1)])\n",
      "C:\\Users\\fedor\\.conda\\envs\\tf-gpu\\lib\\site-packages\\tensorflow\\python\\framework\\dtypes.py:525: FutureWarning: Passing (type, 1) or '1type' as a synonym of type is deprecated; in a future version of numpy, it will be understood as (type, (1,)) / '(1,)type'.\n",
      "  np_resource = np.dtype([(\"resource\", np.ubyte, 1)])\n",
      "C:\\Users\\fedor\\.conda\\envs\\tf-gpu\\lib\\site-packages\\tensorboard\\compat\\tensorflow_stub\\dtypes.py:541: FutureWarning: Passing (type, 1) or '1type' as a synonym of type is deprecated; in a future version of numpy, it will be understood as (type, (1,)) / '(1,)type'.\n",
      "  _np_qint8 = np.dtype([(\"qint8\", np.int8, 1)])\n",
      "C:\\Users\\fedor\\.conda\\envs\\tf-gpu\\lib\\site-packages\\tensorboard\\compat\\tensorflow_stub\\dtypes.py:542: FutureWarning: Passing (type, 1) or '1type' as a synonym of type is deprecated; in a future version of numpy, it will be understood as (type, (1,)) / '(1,)type'.\n",
      "  _np_quint8 = np.dtype([(\"quint8\", np.uint8, 1)])\n",
      "C:\\Users\\fedor\\.conda\\envs\\tf-gpu\\lib\\site-packages\\tensorboard\\compat\\tensorflow_stub\\dtypes.py:543: FutureWarning: Passing (type, 1) or '1type' as a synonym of type is deprecated; in a future version of numpy, it will be understood as (type, (1,)) / '(1,)type'.\n",
      "  _np_qint16 = np.dtype([(\"qint16\", np.int16, 1)])\n",
      "C:\\Users\\fedor\\.conda\\envs\\tf-gpu\\lib\\site-packages\\tensorboard\\compat\\tensorflow_stub\\dtypes.py:544: FutureWarning: Passing (type, 1) or '1type' as a synonym of type is deprecated; in a future version of numpy, it will be understood as (type, (1,)) / '(1,)type'.\n",
      "  _np_quint16 = np.dtype([(\"quint16\", np.uint16, 1)])\n",
      "C:\\Users\\fedor\\.conda\\envs\\tf-gpu\\lib\\site-packages\\tensorboard\\compat\\tensorflow_stub\\dtypes.py:545: FutureWarning: Passing (type, 1) or '1type' as a synonym of type is deprecated; in a future version of numpy, it will be understood as (type, (1,)) / '(1,)type'.\n",
      "  _np_qint32 = np.dtype([(\"qint32\", np.int32, 1)])\n",
      "C:\\Users\\fedor\\.conda\\envs\\tf-gpu\\lib\\site-packages\\tensorboard\\compat\\tensorflow_stub\\dtypes.py:550: FutureWarning: Passing (type, 1) or '1type' as a synonym of type is deprecated; in a future version of numpy, it will be understood as (type, (1,)) / '(1,)type'.\n",
      "  np_resource = np.dtype([(\"resource\", np.ubyte, 1)])\n"
     ]
    }
   ],
   "source": [
    "from PIL import Image\n",
    "import tensorflow as tf\n",
    "import scipy.ndimage\n",
    "from scipy import misc\n",
    "\n",
    "from scipy.interpolate import RectBivariateSpline\n",
    "import numpy as np\n",
    "import numpy.matlib as ml\n",
    "import random\n",
    "import time\n",
    "import os\n",
    "import gc\n",
    "import scipy.io\n",
    "\n",
    "import matplotlib.pyplot as plt\n",
    "%matplotlib inline\n",
    "\n",
    "import sys\n",
    "sys.path.append(\"C:/Users/fedor/.conda/envs/tf-gpu/Lib/site-packages/tensorflow/contrib/slim\")"
   ]
  },
  {
   "cell_type": "code",
   "execution_count": 3,
   "metadata": {},
   "outputs": [
    {
     "name": "stdout",
     "output_type": "stream",
     "text": [
      "WARNING:tensorflow:\n",
      "The TensorFlow contrib module will not be included in TensorFlow 2.0.\n",
      "For more information, please see:\n",
      "  * https://github.com/tensorflow/community/blob/master/rfcs/20180907-contrib-sunset.md\n",
      "  * https://github.com/tensorflow/addons\n",
      "  * https://github.com/tensorflow/io (for I/O related ops)\n",
      "If you depend on functionality not listed there, please file an issue.\n",
      "\n"
     ]
    }
   ],
   "source": [
    "tf.reset_default_graph()\n",
    "slim = tf.contrib.slim"
   ]
  },
  {
   "cell_type": "code",
   "execution_count": 4,
   "metadata": {},
   "outputs": [
    {
     "name": "stdout",
     "output_type": "stream",
     "text": [
      "starting the job...\n"
     ]
    }
   ],
   "source": [
    "print(\"starting the job...\")\n",
    "\n",
    "num_out = 5    #number ouf output parameters being predicted\n",
    "\n",
    "global numpix_side \n",
    "numpix_side = 192   #number of image pixels on the side\n",
    "\n",
    "global max_noise_rms, max_psf_rms , max_cr_intensity\n",
    "max_trainoise_rms = 0.1 # maximum rms of noise in training data\n",
    "max_testnoise_rms = 0.1 # maximum rms of noise in test or validation data\n",
    "max_noise_rms = max_testnoise_rms\n",
    "\n",
    "max_psf_rms = 0.08/0.04  # maximum Gaussian PSF rms (in pixels)\n",
    "max_cr_intensity = 0.5 # maximum scaling for cosmic ray and artefact maps\n",
    "\n",
    "global constant_noise_rms\n",
    "variable_noise_rms = True  #if True, the noise rms will be chosen randomly for each sample with a max of max_noise_rms (above)\n",
    "\n",
    "global pix_res\n",
    "pix_res = 0.04 # pixel size in arcsec\n",
    "L_side = pix_res * numpix_side\n",
    "\n",
    "global arcs_data_path_1, arcs_data_path_2 , test_data_path_1 , test_data_path_2 , CRay_data_path\n",
    "global lens_data_path_1, lens_data_path_2, testlens_data_path_1, testlens_data_path_2 \n",
    "\n",
    "global min_unmasked_flux \n",
    "min_unmasked_flux = 0.75\n",
    "\n",
    "#number of folders containing training or test data. If all 3 point to the same folder that's OK (only that folder will be used).\n",
    "global num_data_dirs\n",
    "num_data_dirs = 3\n",
    "\n",
    "num_training_samples = 79992\n",
    "\n",
    "PATH_train = 'D:/'\n",
    "PATH_test = 'D:/'\n",
    "\n",
    "arcs_data_path_1 = PATH_train + 'lensed_images/'\n",
    "arcs_data_path_2 = arcs_data_path_1\n",
    "arcs_data_path_3 = arcs_data_path_1\n",
    "\n",
    "test_data_path_1 = PATH_test + 'lensed_images_test/'\n",
    "test_data_path_2 = test_data_path_1\n",
    "test_data_path_3 = test_data_path_1\n",
    "\n",
    "lens_data_path_1 = PATH_train + 'lensed_images/'\n",
    "lens_data_path_2 = lens_data_path_1\n",
    "lens_data_path_3 = lens_data_path_1\n",
    "\n",
    "testlens_data_path_1 = PATH_test + 'lensed_images_test/'\n",
    "testlens_data_path_2 = testlens_data_path_1\n",
    "testlens_data_path_3 = testlens_data_path_1\n",
    "\n",
    "#folder containing cosmic rays\n",
    "CRay_data_path   = '../../data_Ensai/CosmicRays/'\n",
    "\n",
    "global max_xy_range   # xy range of center of the lens. The image is shifted in a central area with a side of max_xy_range (arcsec) during training or testing\n",
    "max_xy_range = 0.5"
   ]
  },
  {
   "cell_type": "code",
   "execution_count": 5,
   "metadata": {},
   "outputs": [],
   "source": [
    "exec(open(\"get_data.py\").read())"
   ]
  },
  {
   "cell_type": "code",
   "execution_count": 6,
   "metadata": {},
   "outputs": [],
   "source": [
    "# %%%%%%%%%%%%%%%%%%%%%%%%%%%%%%%%%%%%%%%%% MODEL DEFINITION\n",
    "\n",
    "x = tf.placeholder(tf.float32, shape=[None, numpix_side*numpix_side])   #placeholder for input image\n",
    "y_ = tf.placeholder(tf.float32, shape=[None,num_out])    #placeholder for output parameters during training\n",
    "x_image0 = tf.reshape(x, [-1,numpix_side,numpix_side,1])\n",
    "\n",
    "# removing image intensity bias: filter image with a 4X4 filter and remove from image\n",
    "MASK = tf.abs(tf.sign(x_image0))\n",
    "XX =  x_image0 +  ( (1-MASK) * 1000.0)\n",
    "bias_measure_filt = tf.constant((1.0/16.0), shape=[4, 4, 1, 1])\n",
    "bias_measure = tf.nn.conv2d( XX , bias_measure_filt , strides=[1, 1, 1, 1], padding='VALID')\n",
    "im_bias = tf.reshape( tf.reduce_min(bias_measure,axis=[1,2,3]) , [-1,1,1,1] )\n",
    "x_image = x_image0 - (im_bias * MASK )\n",
    "x_input = tf.concat([x_image,x_image,x_image], axis=3)"
   ]
  },
  {
   "cell_type": "code",
   "execution_count": 7,
   "metadata": {},
   "outputs": [],
   "source": [
    "# construct models\n",
    "exec(open(\"ensai_model.py\").read())"
   ]
  },
  {
   "cell_type": "code",
   "execution_count": 8,
   "metadata": {
    "scrolled": true
   },
   "outputs": [
    {
     "name": "stdout",
     "output_type": "stream",
     "text": [
      "WARNING:tensorflow:Entity <bound method Conv.call of <tensorflow.python.layers.convolutional.Conv2D object at 0x0000022621B7D648>> could not be transformed and will be executed as-is. Please report this to the AutgoGraph team. When filing the bug, set the verbosity to 10 (on Linux, `export AUTOGRAPH_VERBOSITY=10`) and attach the full output. Cause: converting <bound method Conv.call of <tensorflow.python.layers.convolutional.Conv2D object at 0x0000022621B7D648>>: AssertionError: Bad argument number for Name: 3, expecting 4\n",
      "WARNING: Entity <bound method Conv.call of <tensorflow.python.layers.convolutional.Conv2D object at 0x0000022621B7D648>> could not be transformed and will be executed as-is. Please report this to the AutgoGraph team. When filing the bug, set the verbosity to 10 (on Linux, `export AUTOGRAPH_VERBOSITY=10`) and attach the full output. Cause: converting <bound method Conv.call of <tensorflow.python.layers.convolutional.Conv2D object at 0x0000022621B7D648>>: AssertionError: Bad argument number for Name: 3, expecting 4\n",
      "WARNING:tensorflow:Entity <bound method Pooling2D.call of <tensorflow.python.layers.pooling.MaxPooling2D object at 0x000002261A0ACF08>> could not be transformed and will be executed as-is. Please report this to the AutgoGraph team. When filing the bug, set the verbosity to 10 (on Linux, `export AUTOGRAPH_VERBOSITY=10`) and attach the full output. Cause: converting <bound method Pooling2D.call of <tensorflow.python.layers.pooling.MaxPooling2D object at 0x000002261A0ACF08>>: AssertionError: Bad argument number for Name: 3, expecting 4\n",
      "WARNING: Entity <bound method Pooling2D.call of <tensorflow.python.layers.pooling.MaxPooling2D object at 0x000002261A0ACF08>> could not be transformed and will be executed as-is. Please report this to the AutgoGraph team. When filing the bug, set the verbosity to 10 (on Linux, `export AUTOGRAPH_VERBOSITY=10`) and attach the full output. Cause: converting <bound method Pooling2D.call of <tensorflow.python.layers.pooling.MaxPooling2D object at 0x000002261A0ACF08>>: AssertionError: Bad argument number for Name: 3, expecting 4\n",
      "WARNING:tensorflow:Entity <bound method Conv.call of <tensorflow.python.layers.convolutional.Conv2D object at 0x00000226212D35C8>> could not be transformed and will be executed as-is. Please report this to the AutgoGraph team. When filing the bug, set the verbosity to 10 (on Linux, `export AUTOGRAPH_VERBOSITY=10`) and attach the full output. Cause: converting <bound method Conv.call of <tensorflow.python.layers.convolutional.Conv2D object at 0x00000226212D35C8>>: AssertionError: Bad argument number for Name: 3, expecting 4\n",
      "WARNING: Entity <bound method Conv.call of <tensorflow.python.layers.convolutional.Conv2D object at 0x00000226212D35C8>> could not be transformed and will be executed as-is. Please report this to the AutgoGraph team. When filing the bug, set the verbosity to 10 (on Linux, `export AUTOGRAPH_VERBOSITY=10`) and attach the full output. Cause: converting <bound method Conv.call of <tensorflow.python.layers.convolutional.Conv2D object at 0x00000226212D35C8>>: AssertionError: Bad argument number for Name: 3, expecting 4\n",
      "WARNING:tensorflow:Entity <bound method Pooling2D.call of <tensorflow.python.layers.pooling.MaxPooling2D object at 0x000002261D79EF08>> could not be transformed and will be executed as-is. Please report this to the AutgoGraph team. When filing the bug, set the verbosity to 10 (on Linux, `export AUTOGRAPH_VERBOSITY=10`) and attach the full output. Cause: converting <bound method Pooling2D.call of <tensorflow.python.layers.pooling.MaxPooling2D object at 0x000002261D79EF08>>: AssertionError: Bad argument number for Name: 3, expecting 4\n",
      "WARNING: Entity <bound method Pooling2D.call of <tensorflow.python.layers.pooling.MaxPooling2D object at 0x000002261D79EF08>> could not be transformed and will be executed as-is. Please report this to the AutgoGraph team. When filing the bug, set the verbosity to 10 (on Linux, `export AUTOGRAPH_VERBOSITY=10`) and attach the full output. Cause: converting <bound method Pooling2D.call of <tensorflow.python.layers.pooling.MaxPooling2D object at 0x000002261D79EF08>>: AssertionError: Bad argument number for Name: 3, expecting 4\n",
      "WARNING:tensorflow:Entity <bound method Conv.call of <tensorflow.python.layers.convolutional.Conv2D object at 0x0000022621B7DA48>> could not be transformed and will be executed as-is. Please report this to the AutgoGraph team. When filing the bug, set the verbosity to 10 (on Linux, `export AUTOGRAPH_VERBOSITY=10`) and attach the full output. Cause: converting <bound method Conv.call of <tensorflow.python.layers.convolutional.Conv2D object at 0x0000022621B7DA48>>: AssertionError: Bad argument number for Name: 3, expecting 4\n",
      "WARNING: Entity <bound method Conv.call of <tensorflow.python.layers.convolutional.Conv2D object at 0x0000022621B7DA48>> could not be transformed and will be executed as-is. Please report this to the AutgoGraph team. When filing the bug, set the verbosity to 10 (on Linux, `export AUTOGRAPH_VERBOSITY=10`) and attach the full output. Cause: converting <bound method Conv.call of <tensorflow.python.layers.convolutional.Conv2D object at 0x0000022621B7DA48>>: AssertionError: Bad argument number for Name: 3, expecting 4\n",
      "WARNING:tensorflow:Entity <bound method Conv.call of <tensorflow.python.layers.convolutional.Conv2D object at 0x0000022620275C08>> could not be transformed and will be executed as-is. Please report this to the AutgoGraph team. When filing the bug, set the verbosity to 10 (on Linux, `export AUTOGRAPH_VERBOSITY=10`) and attach the full output. Cause: converting <bound method Conv.call of <tensorflow.python.layers.convolutional.Conv2D object at 0x0000022620275C08>>: AssertionError: Bad argument number for Name: 3, expecting 4\n",
      "WARNING: Entity <bound method Conv.call of <tensorflow.python.layers.convolutional.Conv2D object at 0x0000022620275C08>> could not be transformed and will be executed as-is. Please report this to the AutgoGraph team. When filing the bug, set the verbosity to 10 (on Linux, `export AUTOGRAPH_VERBOSITY=10`) and attach the full output. Cause: converting <bound method Conv.call of <tensorflow.python.layers.convolutional.Conv2D object at 0x0000022620275C08>>: AssertionError: Bad argument number for Name: 3, expecting 4\n",
      "WARNING:tensorflow:Entity <bound method Conv.call of <tensorflow.python.layers.convolutional.Conv2D object at 0x00000226200B4908>> could not be transformed and will be executed as-is. Please report this to the AutgoGraph team. When filing the bug, set the verbosity to 10 (on Linux, `export AUTOGRAPH_VERBOSITY=10`) and attach the full output. Cause: converting <bound method Conv.call of <tensorflow.python.layers.convolutional.Conv2D object at 0x00000226200B4908>>: AssertionError: Bad argument number for Name: 3, expecting 4\n",
      "WARNING: Entity <bound method Conv.call of <tensorflow.python.layers.convolutional.Conv2D object at 0x00000226200B4908>> could not be transformed and will be executed as-is. Please report this to the AutgoGraph team. When filing the bug, set the verbosity to 10 (on Linux, `export AUTOGRAPH_VERBOSITY=10`) and attach the full output. Cause: converting <bound method Conv.call of <tensorflow.python.layers.convolutional.Conv2D object at 0x00000226200B4908>>: AssertionError: Bad argument number for Name: 3, expecting 4\n",
      "WARNING:tensorflow:Entity <bound method Pooling2D.call of <tensorflow.python.layers.pooling.MaxPooling2D object at 0x0000022620869548>> could not be transformed and will be executed as-is. Please report this to the AutgoGraph team. When filing the bug, set the verbosity to 10 (on Linux, `export AUTOGRAPH_VERBOSITY=10`) and attach the full output. Cause: converting <bound method Pooling2D.call of <tensorflow.python.layers.pooling.MaxPooling2D object at 0x0000022620869548>>: AssertionError: Bad argument number for Name: 3, expecting 4\n",
      "WARNING: Entity <bound method Pooling2D.call of <tensorflow.python.layers.pooling.MaxPooling2D object at 0x0000022620869548>> could not be transformed and will be executed as-is. Please report this to the AutgoGraph team. When filing the bug, set the verbosity to 10 (on Linux, `export AUTOGRAPH_VERBOSITY=10`) and attach the full output. Cause: converting <bound method Pooling2D.call of <tensorflow.python.layers.pooling.MaxPooling2D object at 0x0000022620869548>>: AssertionError: Bad argument number for Name: 3, expecting 4\n",
      "WARNING:tensorflow:Entity <bound method Conv.call of <tensorflow.python.layers.convolutional.Conv2D object at 0x000002262167FC08>> could not be transformed and will be executed as-is. Please report this to the AutgoGraph team. When filing the bug, set the verbosity to 10 (on Linux, `export AUTOGRAPH_VERBOSITY=10`) and attach the full output. Cause: converting <bound method Conv.call of <tensorflow.python.layers.convolutional.Conv2D object at 0x000002262167FC08>>: AssertionError: Bad argument number for Name: 3, expecting 4\n",
      "WARNING: Entity <bound method Conv.call of <tensorflow.python.layers.convolutional.Conv2D object at 0x000002262167FC08>> could not be transformed and will be executed as-is. Please report this to the AutgoGraph team. When filing the bug, set the verbosity to 10 (on Linux, `export AUTOGRAPH_VERBOSITY=10`) and attach the full output. Cause: converting <bound method Conv.call of <tensorflow.python.layers.convolutional.Conv2D object at 0x000002262167FC08>>: AssertionError: Bad argument number for Name: 3, expecting 4\n",
      "WARNING:tensorflow:Entity <bound method Conv.call of <tensorflow.python.layers.convolutional.Conv2D object at 0x000002261A0ACCC8>> could not be transformed and will be executed as-is. Please report this to the AutgoGraph team. When filing the bug, set the verbosity to 10 (on Linux, `export AUTOGRAPH_VERBOSITY=10`) and attach the full output. Cause: converting <bound method Conv.call of <tensorflow.python.layers.convolutional.Conv2D object at 0x000002261A0ACCC8>>: AssertionError: Bad argument number for Name: 3, expecting 4\n",
      "WARNING: Entity <bound method Conv.call of <tensorflow.python.layers.convolutional.Conv2D object at 0x000002261A0ACCC8>> could not be transformed and will be executed as-is. Please report this to the AutgoGraph team. When filing the bug, set the verbosity to 10 (on Linux, `export AUTOGRAPH_VERBOSITY=10`) and attach the full output. Cause: converting <bound method Conv.call of <tensorflow.python.layers.convolutional.Conv2D object at 0x000002261A0ACCC8>>: AssertionError: Bad argument number for Name: 3, expecting 4\n",
      "WARNING:tensorflow:Entity <bound method Conv.call of <tensorflow.python.layers.convolutional.Conv2D object at 0x00000226200B4348>> could not be transformed and will be executed as-is. Please report this to the AutgoGraph team. When filing the bug, set the verbosity to 10 (on Linux, `export AUTOGRAPH_VERBOSITY=10`) and attach the full output. Cause: converting <bound method Conv.call of <tensorflow.python.layers.convolutional.Conv2D object at 0x00000226200B4348>>: AssertionError: Bad argument number for Name: 3, expecting 4\n",
      "WARNING: Entity <bound method Conv.call of <tensorflow.python.layers.convolutional.Conv2D object at 0x00000226200B4348>> could not be transformed and will be executed as-is. Please report this to the AutgoGraph team. When filing the bug, set the verbosity to 10 (on Linux, `export AUTOGRAPH_VERBOSITY=10`) and attach the full output. Cause: converting <bound method Conv.call of <tensorflow.python.layers.convolutional.Conv2D object at 0x00000226200B4348>>: AssertionError: Bad argument number for Name: 3, expecting 4\n"
     ]
    }
   ],
   "source": [
    "with tf.variable_scope(\"ENSAI\"):\n",
    "    #x_input = slim.conv2d(x_image, 3,(3,3),padding='same', scope = 'new')    # x has a dimension of (IMG_SIZE,IMG_SIZE,3) \n",
    "    y_out = model_9(x_input,scope=\"model_9\")"
   ]
  },
  {
   "cell_type": "code",
   "execution_count": 9,
   "metadata": {},
   "outputs": [],
   "source": [
    "variables_to_restore =  slim.get_variables_to_restore(exclude=['ENSAI/model_9/fc8', 'ENSAI/new',\\\n",
    "                                                               'ENSAI/model_9/fc7', 'ENSAI/model_9/fc6'])"
   ]
  },
  {
   "cell_type": "code",
   "execution_count": 10,
   "metadata": {},
   "outputs": [
    {
     "data": {
      "text/plain": [
       "[<tf.Variable 'ENSAI/model_9/conv1/weights:0' shape=(11, 11, 3, 64) dtype=float32_ref>,\n",
       " <tf.Variable 'ENSAI/model_9/conv1/biases:0' shape=(64,) dtype=float32_ref>,\n",
       " <tf.Variable 'ENSAI/model_9/conv2/weights:0' shape=(5, 5, 64, 192) dtype=float32_ref>,\n",
       " <tf.Variable 'ENSAI/model_9/conv2/biases:0' shape=(192,) dtype=float32_ref>,\n",
       " <tf.Variable 'ENSAI/model_9/conv3/weights:0' shape=(3, 3, 192, 384) dtype=float32_ref>,\n",
       " <tf.Variable 'ENSAI/model_9/conv3/biases:0' shape=(384,) dtype=float32_ref>,\n",
       " <tf.Variable 'ENSAI/model_9/conv4/weights:0' shape=(3, 3, 384, 384) dtype=float32_ref>,\n",
       " <tf.Variable 'ENSAI/model_9/conv4/biases:0' shape=(384,) dtype=float32_ref>,\n",
       " <tf.Variable 'ENSAI/model_9/conv5/weights:0' shape=(3, 3, 384, 256) dtype=float32_ref>,\n",
       " <tf.Variable 'ENSAI/model_9/conv5/biases:0' shape=(256,) dtype=float32_ref>]"
      ]
     },
     "execution_count": 10,
     "metadata": {},
     "output_type": "execute_result"
    }
   ],
   "source": [
    "variables_to_restore"
   ]
  },
  {
   "cell_type": "code",
   "execution_count": 11,
   "metadata": {},
   "outputs": [],
   "source": [
    "def rename_2(var):\n",
    "    return var.op.name.replace(\"ENSAI/model_9\", \"alexnet_v2\")"
   ]
  },
  {
   "cell_type": "code",
   "execution_count": 12,
   "metadata": {},
   "outputs": [],
   "source": [
    "variables_to_save =  slim.get_variables(scope=\"ENSAI\")   #list of variables to save\n",
    "variables_to_restore = {rename_2(var):var for var in variables_to_restore}\n",
    "train_pars = variables_to_restore  #list of parameters to train"
   ]
  },
  {
   "cell_type": "code",
   "execution_count": 13,
   "metadata": {},
   "outputs": [
    {
     "data": {
      "text/plain": [
       "{'alexnet_v2/conv1/weights': <tf.Variable 'ENSAI/model_9/conv1/weights:0' shape=(11, 11, 3, 64) dtype=float32_ref>,\n",
       " 'alexnet_v2/conv1/biases': <tf.Variable 'ENSAI/model_9/conv1/biases:0' shape=(64,) dtype=float32_ref>,\n",
       " 'alexnet_v2/conv2/weights': <tf.Variable 'ENSAI/model_9/conv2/weights:0' shape=(5, 5, 64, 192) dtype=float32_ref>,\n",
       " 'alexnet_v2/conv2/biases': <tf.Variable 'ENSAI/model_9/conv2/biases:0' shape=(192,) dtype=float32_ref>,\n",
       " 'alexnet_v2/conv3/weights': <tf.Variable 'ENSAI/model_9/conv3/weights:0' shape=(3, 3, 192, 384) dtype=float32_ref>,\n",
       " 'alexnet_v2/conv3/biases': <tf.Variable 'ENSAI/model_9/conv3/biases:0' shape=(384,) dtype=float32_ref>,\n",
       " 'alexnet_v2/conv4/weights': <tf.Variable 'ENSAI/model_9/conv4/weights:0' shape=(3, 3, 384, 384) dtype=float32_ref>,\n",
       " 'alexnet_v2/conv4/biases': <tf.Variable 'ENSAI/model_9/conv4/biases:0' shape=(384,) dtype=float32_ref>,\n",
       " 'alexnet_v2/conv5/weights': <tf.Variable 'ENSAI/model_9/conv5/weights:0' shape=(3, 3, 384, 256) dtype=float32_ref>,\n",
       " 'alexnet_v2/conv5/biases': <tf.Variable 'ENSAI/model_9/conv5/biases:0' shape=(256,) dtype=float32_ref>}"
      ]
     },
     "execution_count": 13,
     "metadata": {},
     "output_type": "execute_result"
    }
   ],
   "source": [
    "variables_to_restore"
   ]
  },
  {
   "cell_type": "code",
   "execution_count": 14,
   "metadata": {},
   "outputs": [],
   "source": [
    "save_file = './ckpt/alex_model_tl.ckpt'\n",
    "restore_file = '../../data_Ensai/trained_weights/model_tl_alex.ckpt'   #path of network weights file to restore from\n",
    "\n",
    "RESTORE = True\n",
    "SAVE = True\n",
    "restorer = tf.train.Saver(variables_to_restore)\n",
    "saver = tf.train.Saver(variables_to_save)\n",
    "\n",
    "# ############## flipping and cost function\n",
    "MeanSquareCost , y_out_flipped = cost_tensor(y_out)"
   ]
  },
  {
   "cell_type": "code",
   "execution_count": 15,
   "metadata": {
    "scrolled": true
   },
   "outputs": [
    {
     "data": {
      "text/plain": [
       "{'alexnet_v2/conv1/weights': [11, 11, 3, 64],\n",
       " 'alexnet_v2/fc8/weights/RMSProp_1': [1, 1, 4096, 1001],\n",
       " 'alexnet_v2/fc8/biases/RMSProp_1': [1001],\n",
       " 'alexnet_v2/conv5/weights/RMSProp': [3, 3, 384, 256],\n",
       " 'alexnet_v2/conv5/biases/RMSProp': [256],\n",
       " 'alexnet_v2/conv1/biases': [64],\n",
       " 'alexnet_v2/conv1/weights/RMSProp': [11, 11, 3, 64],\n",
       " 'alexnet_v2/conv1/weights/RMSProp_1': [11, 11, 3, 64],\n",
       " 'alexnet_v2/conv5/weights': [3, 3, 384, 256],\n",
       " 'alexnet_v2/conv5/biases': [256],\n",
       " 'alexnet_v2/conv1/biases/RMSProp': [64],\n",
       " 'alexnet_v2/conv1/biases/RMSProp_1': [64],\n",
       " 'alexnet_v2/conv2/biases/RMSProp': [192],\n",
       " 'alexnet_v2/conv2/biases/RMSProp_1': [192],\n",
       " 'alexnet_v2/conv2/biases': [192],\n",
       " 'alexnet_v2/conv2/weights': [5, 5, 64, 192],\n",
       " 'alexnet_v2/conv2/weights/RMSProp': [5, 5, 64, 192],\n",
       " 'alexnet_v2/conv2/weights/RMSProp_1': [5, 5, 64, 192],\n",
       " 'alexnet_v2/conv3/biases': [384],\n",
       " 'alexnet_v2/conv3/biases/RMSProp': [384],\n",
       " 'alexnet_v2/fc6/weights/RMSProp': [5, 5, 256, 4096],\n",
       " 'alexnet_v2/conv3/weights': [3, 3, 192, 384],\n",
       " 'alexnet_v2/conv3/biases/RMSProp_1': [384],\n",
       " 'alexnet_v2/fc6/weights': [5, 5, 256, 4096],\n",
       " 'alexnet_v2/conv3/weights/RMSProp': [3, 3, 192, 384],\n",
       " 'alexnet_v2/fc6/biases/RMSProp': [4096],\n",
       " 'alexnet_v2/conv3/weights/RMSProp_1': [3, 3, 192, 384],\n",
       " 'alexnet_v2/fc7/weights/RMSProp_1': [1, 1, 4096, 4096],\n",
       " 'alexnet_v2/conv4/biases': [384],\n",
       " 'alexnet_v2/conv4/biases/RMSProp': [384],\n",
       " 'alexnet_v2/fc7/weights': [1, 1, 4096, 4096],\n",
       " 'alexnet_v2/conv4/biases/RMSProp_1': [384],\n",
       " 'alexnet_v2/conv4/weights': [3, 3, 384, 384],\n",
       " 'alexnet_v2/conv4/weights/RMSProp': [3, 3, 384, 384],\n",
       " 'alexnet_v2/conv4/weights/RMSProp_1': [3, 3, 384, 384],\n",
       " 'alexnet_v2/conv5/weights/RMSProp_1': [3, 3, 384, 256],\n",
       " 'alexnet_v2/conv5/biases/RMSProp_1': [256],\n",
       " 'alexnet_v2/fc6/biases': [4096],\n",
       " 'alexnet_v2/fc6/biases/RMSProp_1': [4096],\n",
       " 'alexnet_v2/fc6/weights/RMSProp_1': [5, 5, 256, 4096],\n",
       " 'alexnet_v2/fc7/biases': [4096],\n",
       " 'alexnet_v2/fc7/biases/RMSProp_1': [4096],\n",
       " 'alexnet_v2/fc7/biases/RMSProp': [4096],\n",
       " 'alexnet_v2/fc7/weights/RMSProp': [1, 1, 4096, 4096],\n",
       " 'alexnet_v2/fc8/weights': [1, 1, 4096, 1001],\n",
       " 'alexnet_v2/fc8/biases': [1001],\n",
       " 'alexnet_v2/fc8/weights/RMSProp': [1, 1, 4096, 1001],\n",
       " 'alexnet_v2/fc8/biases/RMSProp': [1001],\n",
       " 'global_step': []}"
      ]
     },
     "execution_count": 15,
     "metadata": {},
     "output_type": "execute_result"
    }
   ],
   "source": [
    "reader = tf.train.NewCheckpointReader(restore_file)\n",
    "reader.get_variable_to_shape_map()"
   ]
  },
  {
   "cell_type": "markdown",
   "metadata": {},
   "source": [
    "### Training"
   ]
  },
  {
   "cell_type": "code",
   "execution_count": 16,
   "metadata": {},
   "outputs": [
    {
     "name": "stdout",
     "output_type": "stream",
     "text": [
      "WARNING:tensorflow:From C:\\Users\\fedor\\.conda\\envs\\tf-gpu\\lib\\site-packages\\tensorflow\\python\\ops\\math_grad.py:1250: add_dispatch_support.<locals>.wrapper (from tensorflow.python.ops.array_ops) is deprecated and will be removed in a future version.\n",
      "Instructions for updating:\n",
      "Use tf.where in 2.0, which has the same broadcast rule as np.where\n"
     ]
    }
   ],
   "source": [
    "############### OPTIMIZER:\n",
    "learning_rate = 0.001\n",
    "train_step = tf.train.AdamOptimizer(learning_rate).minimize(MeanSquareCost,var_list=train_pars)\n",
    "##########################"
   ]
  },
  {
   "cell_type": "code",
   "execution_count": 17,
   "metadata": {},
   "outputs": [],
   "source": [
    "min_eval_cost = 0.2\n",
    "cycle_batch_size = 200\n",
    "X = np.zeros((cycle_batch_size,numpix_side*numpix_side), dtype='float32') ;\n",
    "Y = np.zeros((cycle_batch_size,num_out), dtype='float32' );\n",
    "MAG = np.zeros((cycle_batch_size,1), dtype='float32' );"
   ]
  },
  {
   "cell_type": "code",
   "execution_count": 18,
   "metadata": {},
   "outputs": [],
   "source": [
    "num_test_samples = 200 # number of test samples\n",
    "max_num_test_samples = 10003\n",
    "\n",
    "X_test = np.zeros((num_test_samples,numpix_side*numpix_side), dtype='float32'  );\n",
    "Y_test = np.zeros((num_test_samples,num_out), dtype='float32' );\n",
    "MAG_test = np.zeros((num_test_samples,1), dtype='float32' );\n",
    "Predictions = np.zeros((num_test_samples , num_out ) , dtype='float32' )\n",
    "# max_noise_rms = max_testnoise_rms\n",
    "\n",
    "ind_t = range(num_test_samples)"
   ]
  },
  {
   "cell_type": "code",
   "execution_count": 19,
   "metadata": {},
   "outputs": [],
   "source": [
    "read_data_batch(X_test, Y_test, MAG_test, max_num_test_samples, 'test')"
   ]
  },
  {
   "cell_type": "code",
   "execution_count": 20,
   "metadata": {},
   "outputs": [
    {
     "name": "stdout",
     "output_type": "stream",
     "text": [
      "WARNING:tensorflow:From C:\\Users\\fedor\\.conda\\envs\\tf-gpu\\lib\\site-packages\\tensorflow\\python\\training\\saver.py:1276: checkpoint_exists (from tensorflow.python.training.checkpoint_management) is deprecated and will be removed in a future version.\n",
      "Instructions for updating:\n",
      "Use standard file APIs to check for files with this prefix.\n",
      "INFO:tensorflow:Restoring parameters from ../../data_Ensai/trained_weights/model_tl_alex.ckpt\n"
     ]
    }
   ],
   "source": [
    "sess = tf.Session()\n",
    "sess.run(tf.global_variables_initializer())\n",
    "\n",
    "if RESTORE:\n",
    "    restorer.restore(sess, restore_file)"
   ]
  },
  {
   "cell_type": "code",
   "execution_count": 21,
   "metadata": {},
   "outputs": [],
   "source": [
    "model_num = '_AlexNet_reinforcment'\n",
    "num_iterations = int(num_training_samples/cycle_batch_size)\n",
    "max_file_num = 79991"
   ]
  },
  {
   "cell_type": "code",
   "execution_count": 22,
   "metadata": {},
   "outputs": [
    {
     "data": {
      "text/plain": [
       "79992"
      ]
     },
     "execution_count": 22,
     "metadata": {},
     "output_type": "execute_result"
    }
   ],
   "source": [
    "num_training_samples"
   ]
  },
  {
   "cell_type": "code",
   "execution_count": 23,
   "metadata": {},
   "outputs": [
    {
     "data": {
      "text/plain": [
       "399"
      ]
     },
     "execution_count": 23,
     "metadata": {},
     "output_type": "execute_result"
    }
   ],
   "source": [
    "num_iterations"
   ]
  },
  {
   "cell_type": "code",
   "execution_count": 24,
   "metadata": {},
   "outputs": [],
   "source": [
    "log_file = open(\"log_file.txt\",\"w\")\n",
    "log_file.close()"
   ]
  },
  {
   "cell_type": "code",
   "execution_count": null,
   "metadata": {},
   "outputs": [],
   "source": [
    "write_time = time.time()\n",
    "start_time = time.time()\n",
    "print_per = 1\n",
    "\n",
    "costs = []\n",
    "seed = 0"
   ]
  },
  {
   "cell_type": "code",
   "execution_count": 25,
   "metadata": {
    "jupyter": {
     "source_hidden": true
    }
   },
   "outputs": [
    {
     "name": "stdout",
     "output_type": "stream",
     "text": [
      "mod_AlexNet_reinforcment, lr: 0.001, [0.78 0.35 0.36 0.16 0.16]\n",
      "                                         0000  0.00000 0.54209    0.56075    0.20000   13.030\n",
      "mod_AlexNet_reinforcment, lr: 0.001, [0.14 0.12 0.2  0.09 0.1 ]\n",
      "                                         0000  200.00000 0.01437    0.01993    0.20000   581.772\n",
      "saving weights to the disk (eval) ...\n",
      "done.\n",
      "mod_AlexNet_reinforcment, lr: 0.001, [0.11 0.1  0.17 0.09 0.09]\n",
      "                                         0001  0.00000 0.00977    0.01534    0.01993   602.853\n",
      "saving weights to the disk (eval) ...\n",
      "done.\n",
      "mod_AlexNet_reinforcment, lr: 0.001, [0.09 0.09 0.15 0.08 0.09]\n",
      "                                         0001  200.00000 0.01001    0.01151    0.01534   601.835\n",
      "saving weights to the disk (eval) ...\n",
      "done.\n",
      "mod_AlexNet_reinforcment, lr: 0.001, [0.09 0.09 0.14 0.08 0.08]\n",
      "                                         0002  0.00000 0.00961    0.01081    0.01151   602.531\n",
      "saving weights to the disk (eval) ...\n",
      "done.\n",
      "mod_AlexNet_reinforcment, lr: 0.001, [0.08 0.08 0.14 0.08 0.08]\n",
      "                                         0002  200.00000 0.00578    0.00964    0.01081   605.795\n",
      "saving weights to the disk (eval) ...\n",
      "done.\n"
     ]
    }
   ],
   "source": [
    "start_time = time.time()\n",
    "\n",
    "for num_epoch in range(1):\n",
    "    for i in range(num_iterations):\n",
    "        seed += 1 \n",
    "\n",
    "        read_data_batch( X , Y , MAG , max_file_num , 'train', seed)\n",
    "        sess.run(train_step, feed_dict={x: X, y_: Y})\n",
    "        \n",
    "        if i%200 == 0:     \n",
    "            train_cost = sess.run(MeanSquareCost, feed_dict={x: X, y_: Y} )\n",
    "            costs.append(train_cost)\n",
    "\n",
    "            sum_rms = 0\n",
    "            eval_cost = 0\n",
    "            chunk_size = 50\n",
    "            num_chunks = int(num_test_samples/chunk_size)\n",
    "            for it in range(num_chunks):\n",
    "                    eval_cost  = eval_cost + sess.run(MeanSquareCost, feed_dict={x: X_test[ind_t[0+chunk_size*it:chunk_size+chunk_size*it]], y_: Y_test[ind_t[0+chunk_size*it:chunk_size+chunk_size*it],:]})\n",
    "                    A = sess.run(y_out , feed_dict={ x: X_test[ind_t[0+chunk_size*it:chunk_size+chunk_size*it]]})\n",
    "                    B = sess.run(y_out_flipped , feed_dict={ x: X_test[ind_t[0+chunk_size*it:chunk_size+chunk_size*it]]})\n",
    "                    Predictions[ind_t[0+chunk_size*it:chunk_size+chunk_size*it],:] = get_rotation_corrected(A,B,Y_test[ind_t[0+chunk_size*it:chunk_size+chunk_size*it],:])\n",
    "                    sum_rms = sum_rms + np.std(Predictions[ind_t[0+chunk_size*it:chunk_size+chunk_size*it],:]- \\\n",
    "                                               Y_test[ind_t[0+chunk_size*it:chunk_size+chunk_size*it],:],axis=0)\n",
    "            eval_cost = eval_cost / num_chunks\n",
    "            print(\"mod\"+ str(model_num) + \", lr: \" + str(learning_rate) + \", \"  + np.array_str( sum_rms/num_chunks  ,precision=2) )\n",
    "\n",
    "\n",
    "        # show the iteration number, training cost, validation cost, and the average time per iteration for training\n",
    "            print(\"                                         %0.4d  %0.5f %0.5f    %0.5f    %0.5f   %0.3f\"%(num_epoch, i, train_cost,eval_cost,min_eval_cost,(time.time()-start_time)/print_per)) \n",
    "            start_time = time.time()\n",
    "\n",
    "            log_file = open(\"log_file.txt\",\"a\")\n",
    "            log_file.write('%d ' % (num_epoch) + ' '.join(map(str,sum_rms/num_chunks)) + ' %0.5f %0.5f\\n' % (train_cost,eval_cost) )\n",
    "            log_file.close()               \n",
    "\n",
    "            if  SAVE & (eval_cost<min_eval_cost): # save file when validation cost drops\n",
    "                    print(\"saving weights to the disk (eval) ...\")\n",
    "                    save_path = saver.save(sess, save_file)\n",
    "                    print(\"done.\")\n",
    "            min_eval_cost = np.minimum(min_eval_cost,eval_cost)"
   ]
  },
  {
   "cell_type": "code",
   "execution_count": 31,
   "metadata": {
    "jupyter": {
     "source_hidden": true
    }
   },
   "outputs": [
    {
     "name": "stdout",
     "output_type": "stream",
     "text": [
      "mod_AlexNet_reinforcment, lr: 0.001, [0.08 0.08 0.14 0.07 0.08]\n",
      "                                         0000  0.00000 0.00519    0.00910    0.00964   4.906\n",
      "saving weights to the disk (eval) ...\n",
      "done.\n",
      "mod_AlexNet_reinforcment, lr: 0.001, [0.08 0.08 0.15 0.07 0.07]\n",
      "                                         0000  200.00000 0.00555    0.00942    0.00910   641.900\n"
     ]
    }
   ],
   "source": [
    "start_time = time.time()\n",
    "\n",
    "for num_epoch in range(1):\n",
    "    for i in range(num_iterations):\n",
    "        seed += 1 \n",
    "\n",
    "        read_data_batch( X , Y , MAG , max_file_num , 'train', seed)\n",
    "        sess.run(train_step, feed_dict={x: X, y_: Y})\n",
    "        \n",
    "        if i%200 == 0:     \n",
    "            train_cost = sess.run(MeanSquareCost, feed_dict={x: X, y_: Y} )\n",
    "            costs.append(train_cost)\n",
    "\n",
    "            sum_rms = 0\n",
    "            eval_cost = 0\n",
    "            chunk_size = 50\n",
    "            num_chunks = int(num_test_samples/chunk_size)\n",
    "            for it in range(num_chunks):\n",
    "                    eval_cost  = eval_cost + sess.run(MeanSquareCost, feed_dict={x: X_test[ind_t[0+chunk_size*it:chunk_size+chunk_size*it]], y_: Y_test[ind_t[0+chunk_size*it:chunk_size+chunk_size*it],:]})\n",
    "                    A = sess.run(y_out , feed_dict={ x: X_test[ind_t[0+chunk_size*it:chunk_size+chunk_size*it]]})\n",
    "                    B = sess.run(y_out_flipped , feed_dict={ x: X_test[ind_t[0+chunk_size*it:chunk_size+chunk_size*it]]})\n",
    "                    Predictions[ind_t[0+chunk_size*it:chunk_size+chunk_size*it],:] = get_rotation_corrected(A,B,Y_test[ind_t[0+chunk_size*it:chunk_size+chunk_size*it],:])\n",
    "                    sum_rms = sum_rms + np.std(Predictions[ind_t[0+chunk_size*it:chunk_size+chunk_size*it],:]- \\\n",
    "                                               Y_test[ind_t[0+chunk_size*it:chunk_size+chunk_size*it],:],axis=0)\n",
    "            eval_cost = eval_cost / num_chunks\n",
    "            print(\"mod\"+ str(model_num) + \", lr: \" + str(learning_rate) + \", \"  + np.array_str( sum_rms/num_chunks  ,precision=2) )\n",
    "\n",
    "\n",
    "        # show the iteration number, training cost, validation cost, and the average time per iteration for training\n",
    "            print(\"                                         %0.4d  %0.5f %0.5f    %0.5f    %0.5f   %0.3f\"%(num_epoch, i, train_cost,eval_cost,min_eval_cost,(time.time()-start_time)/print_per)) \n",
    "            start_time = time.time()\n",
    "\n",
    "            log_file = open(\"log_file.txt\",\"a\")\n",
    "            log_file.write('%d ' % (num_epoch) + ' '.join(map(str,sum_rms/num_chunks)) + ' %0.5f %0.5f\\n' % (train_cost,eval_cost) )\n",
    "            log_file.close()               \n",
    "\n",
    "            if  SAVE & (eval_cost<min_eval_cost): # save file when validation cost drops\n",
    "                    print(\"saving weights to the disk (eval) ...\")\n",
    "                    save_path = saver.save(sess, save_file)\n",
    "                    print(\"done.\")\n",
    "            min_eval_cost = np.minimum(min_eval_cost,eval_cost)"
   ]
  },
  {
   "cell_type": "code",
   "execution_count": 35,
   "metadata": {
    "jupyter": {
     "source_hidden": true
    }
   },
   "outputs": [
    {
     "name": "stdout",
     "output_type": "stream",
     "text": [
      "mod_AlexNet_reinforcment, lr: 0.001, [0.09 0.08 0.13 0.07 0.07]\n",
      "                                         0000  0.00000 0.00600    0.00881    0.00910   4.835\n",
      "saving weights to the disk (eval) ...\n",
      "done.\n",
      "mod_AlexNet_reinforcment, lr: 0.001, [0.08 0.09 0.13 0.08 0.07]\n",
      "                                         0000  200.00000 0.00489    0.00851    0.00881   626.265\n",
      "saving weights to the disk (eval) ...\n",
      "done.\n",
      "mod_AlexNet_reinforcment, lr: 0.001, [0.08 0.07 0.13 0.07 0.07]\n",
      "                                         0001  0.00000 0.00449    0.00783    0.00851   604.875\n",
      "saving weights to the disk (eval) ...\n",
      "done.\n",
      "mod_AlexNet_reinforcment, lr: 0.001, [0.08 0.08 0.13 0.07 0.07]\n",
      "                                         0001  200.00000 0.00456    0.00793    0.00783   595.148\n",
      "mod_AlexNet_reinforcment, lr: 0.001, [0.07 0.08 0.11 0.07 0.07]\n",
      "                                         0002  0.00000 0.00470    0.00720    0.00783   585.860\n",
      "saving weights to the disk (eval) ...\n",
      "done.\n",
      "mod_AlexNet_reinforcment, lr: 0.001, [0.07 0.07 0.12 0.07 0.06]\n",
      "                                         0002  200.00000 0.00359    0.00687    0.00720   588.692\n",
      "saving weights to the disk (eval) ...\n",
      "done.\n"
     ]
    }
   ],
   "source": [
    "start_time = time.time()\n",
    "\n",
    "for num_epoch in range(3):\n",
    "    for i in range(num_iterations):\n",
    "        seed += 1 \n",
    "\n",
    "        read_data_batch( X , Y , MAG , max_file_num , 'train', seed)\n",
    "        sess.run(train_step, feed_dict={x: X, y_: Y})\n",
    "        \n",
    "        if i%200 == 0:     \n",
    "            train_cost = sess.run(MeanSquareCost, feed_dict={x: X, y_: Y} )\n",
    "            costs.append(train_cost)\n",
    "\n",
    "            sum_rms = 0\n",
    "            eval_cost = 0\n",
    "            chunk_size = 50\n",
    "            num_chunks = int(num_test_samples/chunk_size)\n",
    "            for it in range(num_chunks):\n",
    "                    eval_cost  = eval_cost + sess.run(MeanSquareCost, feed_dict={x: X_test[ind_t[0+chunk_size*it:chunk_size+chunk_size*it]], y_: Y_test[ind_t[0+chunk_size*it:chunk_size+chunk_size*it],:]})\n",
    "                    A = sess.run(y_out , feed_dict={ x: X_test[ind_t[0+chunk_size*it:chunk_size+chunk_size*it]]})\n",
    "                    B = sess.run(y_out_flipped , feed_dict={ x: X_test[ind_t[0+chunk_size*it:chunk_size+chunk_size*it]]})\n",
    "                    Predictions[ind_t[0+chunk_size*it:chunk_size+chunk_size*it],:] = get_rotation_corrected(A,B,Y_test[ind_t[0+chunk_size*it:chunk_size+chunk_size*it],:])\n",
    "                    sum_rms = sum_rms + np.std(Predictions[ind_t[0+chunk_size*it:chunk_size+chunk_size*it],:]- \\\n",
    "                                               Y_test[ind_t[0+chunk_size*it:chunk_size+chunk_size*it],:],axis=0)\n",
    "            eval_cost = eval_cost / num_chunks\n",
    "            print(\"mod\"+ str(model_num) + \", lr: \" + str(learning_rate) + \", \"  + np.array_str( sum_rms/num_chunks  ,precision=2) )\n",
    "\n",
    "\n",
    "        # show the iteration number, training cost, validation cost, and the average time per iteration for training\n",
    "            print(\"                                         %0.4d  %0.5f %0.5f    %0.5f    %0.5f   %0.3f\"%(num_epoch, i, train_cost,eval_cost,min_eval_cost,(time.time()-start_time)/print_per)) \n",
    "            start_time = time.time()\n",
    "\n",
    "            log_file = open(\"log_file.txt\",\"a\")\n",
    "            log_file.write('%d ' % (num_epoch) + ' '.join(map(str,sum_rms/num_chunks)) + ' %0.5f %0.5f\\n' % (train_cost,eval_cost) )\n",
    "            log_file.close()               \n",
    "\n",
    "            if  SAVE & (eval_cost<min_eval_cost): # save file when validation cost drops\n",
    "                    print(\"saving weights to the disk (eval) ...\")\n",
    "                    save_path = saver.save(sess, save_file)\n",
    "                    print(\"done.\")\n",
    "            min_eval_cost = np.minimum(min_eval_cost,eval_cost)"
   ]
  },
  {
   "cell_type": "code",
   "execution_count": 37,
   "metadata": {
    "jupyter": {
     "source_hidden": true
    }
   },
   "outputs": [
    {
     "name": "stdout",
     "output_type": "stream",
     "text": [
      "mod_AlexNet_reinforcment, lr: 0.001, [0.07 0.07 0.12 0.06 0.06]\n",
      "                                         0000  0.00000 0.00404    0.00694    0.00687   5.066\n",
      "mod_AlexNet_reinforcment, lr: 0.001, [0.07 0.07 0.12 0.06 0.06]\n",
      "                                         0000  200.00000 0.00342    0.00678    0.00687   659.136\n",
      "saving weights to the disk (eval) ...\n",
      "done.\n",
      "mod_AlexNet_reinforcment, lr: 0.001, [0.06 0.07 0.12 0.06 0.06]\n",
      "                                         0001  0.00000 0.00316    0.00648    0.00678   599.525\n",
      "saving weights to the disk (eval) ...\n",
      "done.\n",
      "mod_AlexNet_reinforcment, lr: 0.001, [0.06 0.07 0.12 0.06 0.06]\n",
      "                                         0001  200.00000 0.00335    0.00643    0.00648   609.692\n",
      "saving weights to the disk (eval) ...\n",
      "done.\n",
      "mod_AlexNet_reinforcment, lr: 0.001, [0.06 0.07 0.11 0.06 0.06]\n",
      "                                         0002  0.00000 0.00338    0.00613    0.00643   596.356\n",
      "saving weights to the disk (eval) ...\n",
      "done.\n",
      "mod_AlexNet_reinforcment, lr: 0.001, [0.06 0.06 0.1  0.06 0.06]\n",
      "                                         0002  200.00000 0.00286    0.00549    0.00613   589.035\n",
      "saving weights to the disk (eval) ...\n",
      "done.\n"
     ]
    }
   ],
   "source": [
    "start_time = time.time()\n",
    "\n",
    "for num_epoch in range(3):\n",
    "    for i in range(num_iterations):\n",
    "        seed += 1 \n",
    "\n",
    "        read_data_batch( X , Y , MAG , max_file_num , 'train', seed)\n",
    "        sess.run(train_step, feed_dict={x: X, y_: Y})\n",
    "        \n",
    "        if i%200 == 0:     \n",
    "            train_cost = sess.run(MeanSquareCost, feed_dict={x: X, y_: Y} )\n",
    "            costs.append(train_cost)\n",
    "\n",
    "            sum_rms = 0\n",
    "            eval_cost = 0\n",
    "            chunk_size = 50\n",
    "            num_chunks = int(num_test_samples/chunk_size)\n",
    "            for it in range(num_chunks):\n",
    "                    eval_cost  = eval_cost + sess.run(MeanSquareCost, feed_dict={x: X_test[ind_t[0+chunk_size*it:chunk_size+chunk_size*it]], y_: Y_test[ind_t[0+chunk_size*it:chunk_size+chunk_size*it],:]})\n",
    "                    A = sess.run(y_out , feed_dict={ x: X_test[ind_t[0+chunk_size*it:chunk_size+chunk_size*it]]})\n",
    "                    B = sess.run(y_out_flipped , feed_dict={ x: X_test[ind_t[0+chunk_size*it:chunk_size+chunk_size*it]]})\n",
    "                    Predictions[ind_t[0+chunk_size*it:chunk_size+chunk_size*it],:] = get_rotation_corrected(A,B,Y_test[ind_t[0+chunk_size*it:chunk_size+chunk_size*it],:])\n",
    "                    sum_rms = sum_rms + np.std(Predictions[ind_t[0+chunk_size*it:chunk_size+chunk_size*it],:]- \\\n",
    "                                               Y_test[ind_t[0+chunk_size*it:chunk_size+chunk_size*it],:],axis=0)\n",
    "            eval_cost = eval_cost / num_chunks\n",
    "            print(\"mod\"+ str(model_num) + \", lr: \" + str(learning_rate) + \", \"  + np.array_str( sum_rms/num_chunks  ,precision=2) )\n",
    "\n",
    "\n",
    "        # show the iteration number, training cost, validation cost, and the average time per iteration for training\n",
    "            print(\"                                         %0.4d  %0.5f %0.5f    %0.5f    %0.5f   %0.3f\"%(num_epoch, i, train_cost,eval_cost,min_eval_cost,(time.time()-start_time)/print_per)) \n",
    "            start_time = time.time()\n",
    "\n",
    "            log_file = open(\"log_file.txt\",\"a\")\n",
    "            log_file.write('%d ' % (num_epoch) + ' '.join(map(str,sum_rms/num_chunks)) + ' %0.5f %0.5f\\n' % (train_cost,eval_cost) )\n",
    "            log_file.close()               \n",
    "\n",
    "            if  SAVE & (eval_cost<min_eval_cost): # save file when validation cost drops\n",
    "                    print(\"saving weights to the disk (eval) ...\")\n",
    "                    save_path = saver.save(sess, save_file)\n",
    "                    print(\"done.\")\n",
    "            min_eval_cost = np.minimum(min_eval_cost,eval_cost)"
   ]
  },
  {
   "cell_type": "code",
   "execution_count": 39,
   "metadata": {},
   "outputs": [
    {
     "name": "stdout",
     "output_type": "stream",
     "text": [
      "mod_AlexNet_reinforcment, lr: 0.001, [0.06 0.06 0.11 0.06 0.06]\n",
      "                                         0000  0.00000 0.00334    0.00561    0.00549   5.142\n",
      "mod_AlexNet_reinforcment, lr: 0.001, [0.06 0.06 0.1  0.06 0.06]\n",
      "                                         0000  200.00000 0.00208    0.00555    0.00549   776.047\n",
      "mod_AlexNet_reinforcment, lr: 0.001, [0.06 0.07 0.1  0.06 0.06]\n",
      "                                         0001  0.00000 0.00416    0.00583    0.00549   679.898\n",
      "mod_AlexNet_reinforcment, lr: 0.001, [0.07 0.07 0.1  0.06 0.06]\n",
      "                                         0001  200.00000 0.00375    0.00617    0.00549   601.817\n",
      "mod_AlexNet_reinforcment, lr: 0.001, [0.06 0.07 0.09 0.06 0.06]\n",
      "                                         0002  0.00000 0.00316    0.00557    0.00549   589.236\n",
      "mod_AlexNet_reinforcment, lr: 0.001, [0.06 0.07 0.12 0.06 0.07]\n",
      "                                         0002  200.00000 0.00335    0.00651    0.00549   587.613\n"
     ]
    }
   ],
   "source": [
    "start_time = time.time()\n",
    "\n",
    "for num_epoch in range(3):\n",
    "    for i in range(num_iterations):\n",
    "        seed += 1 \n",
    "\n",
    "        read_data_batch( X , Y , MAG , max_file_num , 'train', seed)\n",
    "        sess.run(train_step, feed_dict={x: X, y_: Y})\n",
    "        \n",
    "        if i%200 == 0:     \n",
    "            train_cost = sess.run(MeanSquareCost, feed_dict={x: X, y_: Y} )\n",
    "            costs.append(train_cost)\n",
    "\n",
    "            sum_rms = 0\n",
    "            eval_cost = 0\n",
    "            chunk_size = 50\n",
    "            num_chunks = int(num_test_samples/chunk_size)\n",
    "            for it in range(num_chunks):\n",
    "                    eval_cost  = eval_cost + sess.run(MeanSquareCost, feed_dict={x: X_test[ind_t[0+chunk_size*it:chunk_size+chunk_size*it]], y_: Y_test[ind_t[0+chunk_size*it:chunk_size+chunk_size*it],:]})\n",
    "                    A = sess.run(y_out , feed_dict={ x: X_test[ind_t[0+chunk_size*it:chunk_size+chunk_size*it]]})\n",
    "                    B = sess.run(y_out_flipped , feed_dict={ x: X_test[ind_t[0+chunk_size*it:chunk_size+chunk_size*it]]})\n",
    "                    Predictions[ind_t[0+chunk_size*it:chunk_size+chunk_size*it],:] = get_rotation_corrected(A,B,Y_test[ind_t[0+chunk_size*it:chunk_size+chunk_size*it],:])\n",
    "                    sum_rms = sum_rms + np.std(Predictions[ind_t[0+chunk_size*it:chunk_size+chunk_size*it],:]- \\\n",
    "                                               Y_test[ind_t[0+chunk_size*it:chunk_size+chunk_size*it],:],axis=0)\n",
    "            eval_cost = eval_cost / num_chunks\n",
    "            print(\"mod\"+ str(model_num) + \", lr: \" + str(learning_rate) + \", \"  + np.array_str( sum_rms/num_chunks  ,precision=2) )\n",
    "\n",
    "\n",
    "        # show the iteration number, training cost, validation cost, and the average time per iteration for training\n",
    "            print(\"                                         %0.4d  %0.5f %0.5f    %0.5f    %0.5f   %0.3f\"%(num_epoch, i, train_cost,eval_cost,min_eval_cost,(time.time()-start_time)/print_per)) \n",
    "            start_time = time.time()\n",
    "\n",
    "            log_file = open(\"log_file.txt\",\"a\")\n",
    "            log_file.write('%d ' % (num_epoch) + ' '.join(map(str,sum_rms/num_chunks)) + ' %0.5f %0.5f\\n' % (train_cost,eval_cost) )\n",
    "            log_file.close()               \n",
    "\n",
    "            if  SAVE & (eval_cost<min_eval_cost): # save file when validation cost drops\n",
    "                    print(\"saving weights to the disk (eval) ...\")\n",
    "                    save_path = saver.save(sess, save_file)\n",
    "                    print(\"done.\")\n",
    "            min_eval_cost = np.minimum(min_eval_cost,eval_cost)"
   ]
  },
  {
   "cell_type": "code",
   "execution_count": 30,
   "metadata": {},
   "outputs": [
    {
     "data": {
      "text/plain": [
       "[<matplotlib.lines.Line2D at 0x226a38bee88>]"
      ]
     },
     "execution_count": 30,
     "metadata": {},
     "output_type": "execute_result"
    },
    {
     "data": {
      "image/png": "[encoded data removed]",
      "text/plain": [
       "<Figure size 432x288 with 1 Axes>"
      ]
     },
     "metadata": {
      "needs_background": "light"
     },
     "output_type": "display_data"
    }
   ],
   "source": [
    "plt.plot(np.log(costs))"
   ]
  },
  {
   "cell_type": "code",
   "execution_count": 40,
   "metadata": {},
   "outputs": [
    {
     "data": {
      "text/plain": [
       "[-0.4, 0.4, -0.4, 0.4]"
      ]
     },
     "execution_count": 40,
     "metadata": {},
     "output_type": "execute_result"
    },
    {
     "data": {
      "image/png": "[encoded data removed]",
      "text/plain": [
       "<Figure size 1440x288 with 5 Axes>"
      ]
     },
     "metadata": {
      "needs_background": "light"
     },
     "output_type": "display_data"
    }
   ],
   "source": [
    "# And here's the fun part:\n",
    "# plot the recovered parameters (y-axis) against their true values (x-axis)\n",
    "\n",
    "plt.figure(figsize=(20, 4))\n",
    "plt.subplot(1, 5, 1)\n",
    "plt.plot(Y_test[:,0],Predictions[:,0],' .')\n",
    "plt.plot([0 , 3.5],[0 , 3.5],'--r')\n",
    "plt.xlabel(\"Ein rad (true)\")\n",
    "plt.ylabel(\"Ein rad (predict)\")\n",
    "plt.axis([0 ,3 ,0 ,3])\n",
    "\n",
    "plt.subplot(1, 5, 2)\n",
    "plt.plot(Y_test[:,1],Predictions[:,1],' .')\n",
    "plt.plot([-1 , 1.],[-1 , 1.],'--r')\n",
    "plt.xlabel(\"elp x (true)\")\n",
    "plt.axis([-1 ,1 ,-1 ,1])\n",
    "\n",
    "\n",
    "plt.subplot(1, 5, 3)\n",
    "plt.plot(Y_test[:,2],Predictions[:,2],' .')\n",
    "plt.plot([-1 , 1.],[-1 , 1.],'--r')\n",
    "plt.xlabel(\"elp y (true)\")\n",
    "plt.axis([-1 ,1 ,-1 ,1])\n",
    "\n",
    "\n",
    "plt.subplot(1, 5, 4)\n",
    "plt.plot(Y_test[:,3],Predictions[:,3],' .')\n",
    "plt.plot([-0.4 , 0.4],[-0.4 , 0.4],'--r')\n",
    "plt.xlabel(\"x (true)\")\n",
    "plt.axis([-0.4 ,0.4 ,-0.4 ,0.4])\n",
    "\n",
    "\n",
    "plt.subplot(1, 5, 5)\n",
    "plt.plot(Y_test[:,4],Predictions[:,4],' .')\n",
    "plt.plot([-0.4 , 0.4],[-0.4 , 0.4],'--r')\n",
    "plt.xlabel(\"y (true)\")\n",
    "plt.axis([-0.4 ,0.4 ,-0.4 ,0.4])"
   ]
  },
  {
   "cell_type": "code",
   "execution_count": 35,
   "metadata": {},
   "outputs": [
    {
     "data": {
      "text/plain": [
       "(200,)"
      ]
     },
     "execution_count": 35,
     "metadata": {},
     "output_type": "execute_result"
    }
   ],
   "source": [
    "np.shape(Predictions[:,4])"
   ]
  },
  {
   "cell_type": "code",
   "execution_count": 47,
   "metadata": {},
   "outputs": [
    {
     "data": {
      "image/png": "[encoded data removed]",
      "text/plain": [
       "<Figure size 432x288 with 1 Axes>"
      ]
     },
     "metadata": {
      "needs_background": "light"
     },
     "output_type": "display_data"
    }
   ],
   "source": [
    "fig, ax = plt.subplots(1, 1)\n",
    "\n",
    "#x = np.linspace(rayleigh.ppf(0.01), rayleigh.ppf(0.99), 1000)\n",
    "#ax.plot(x, rayleigh.pdf(x), 'r-', label='rayleigh pdf')\n",
    "\n",
    "plt.plot([-0.4 , 0.4],[-0.4 , 0.4],'--r')\n",
    "\n",
    "#r = rayleigh.rvs(size = 1000)\n",
    "ax.hist(Predictions[:,4], density = False, bins = 20, alpha = 0.5, label = 'hist')\n",
    "ax.legend()\n",
    "ax.set_title('Гистограмма')\n",
    "ax.set_xlim(-0.4, 0.4)\n",
    "plt.show()"
   ]
  },
  {
   "cell_type": "code",
   "execution_count": 52,
   "metadata": {},
   "outputs": [
    {
     "data": {
      "text/plain": [
       "0.0372851695865394"
      ]
     },
     "execution_count": 52,
     "metadata": {},
     "output_type": "execute_result"
    }
   ],
   "source": [
    "p = np.percentile(Predictions[:,4], 67) # return 50th percentile, e.g median.\n",
    "p"
   ]
  },
  {
   "cell_type": "code",
   "execution_count": 51,
   "metadata": {},
   "outputs": [
    {
     "data": {
      "text/plain": [
       "-0.08986973166465759"
      ]
     },
     "execution_count": 51,
     "metadata": {},
     "output_type": "execute_result"
    }
   ],
   "source": [
    "p = np.percentile(Predictions[:,4], 33) # return 50th percentile, e.g median.\n",
    "p"
   ]
  },
  {
   "cell_type": "code",
   "execution_count": 53,
   "metadata": {},
   "outputs": [],
   "source": [
    "import scipy.stats as stats"
   ]
  },
  {
   "cell_type": "code",
   "execution_count": 55,
   "metadata": {},
   "outputs": [],
   "source": [
    "N= 200"
   ]
  },
  {
   "cell_type": "code",
   "execution_count": 77,
   "metadata": {},
   "outputs": [
    {
     "data": {
      "text/plain": [
       "0.011278874929480627"
      ]
     },
     "execution_count": 77,
     "metadata": {},
     "output_type": "execute_result"
    }
   ],
   "source": [
    "s_x = stats.sem(Y_test[:,4])\n",
    "s_x"
   ]
  },
  {
   "cell_type": "code",
   "execution_count": 78,
   "metadata": {},
   "outputs": [
    {
     "data": {
      "text/plain": [
       "0.008910059777801616"
      ]
     },
     "execution_count": 78,
     "metadata": {},
     "output_type": "execute_result"
    }
   ],
   "source": [
    "s_y = stats.sem(Predictions[:,4])\n",
    "s_y"
   ]
  },
  {
   "cell_type": "code",
   "execution_count": 137,
   "metadata": {},
   "outputs": [],
   "source": [
    "def conf_interval(pred, true, conf = 0.95):\n",
    "    lower = []\n",
    "    upper = []\n",
    "\n",
    "    s_x = 1\n",
    "    s_y = np.sqrt(np.sum(np.power((pred - true),2))/199)\n",
    "    x_mean = np.mean(true)\n",
    "    N = len(pred)\n",
    "    t = scipy.stats.t.ppf((1-conf)/2, N-2)\n",
    "    \n",
    "    def lower_func(x, y, s_x, s_y, t, N, x_mean):\n",
    "        return y - t*s_y*np.sqrt(1/N + (x-x_mean)**2/(N-1)/s_x**2)\n",
    "    def upper_func(x, y, s_x, s_y, t, N, x_mean):\n",
    "        return y + t*s_y*np.sqrt(1/N + (x-x_mean)**2/(N-1)/s_x**2)\n",
    "        \n",
    "    lower = [lower_func(x, y, s_x, s_y, t, N, x_mean) for y,x in zip(pred, true)]\n",
    "    upper = [upper_func(x, y, s_x, s_y, t, N, x_mean) for y,x in zip(pred, true)]\n",
    "    \n",
    "    return lower,upper"
   ]
  },
  {
   "cell_type": "code",
   "execution_count": 130,
   "metadata": {},
   "outputs": [
    {
     "data": {
      "text/plain": [
       "0.14242788431673872"
      ]
     },
     "execution_count": 130,
     "metadata": {},
     "output_type": "execute_result"
    }
   ],
   "source": [
    "np.sqrt(np.sum(np.power((Predictions[:,4] - Y_test[:,4]),2))/199)"
   ]
  },
  {
   "cell_type": "code",
   "execution_count": 151,
   "metadata": {},
   "outputs": [],
   "source": [
    "low, up = conf_interval(Predictions[:,2], Y_test[:,2], conf = 0.95)"
   ]
  },
  {
   "cell_type": "code",
   "execution_count": 80,
   "metadata": {},
   "outputs": [],
   "source": [
    "def mean_confidence_interval(data, confidence=0.95):\n",
    "    a = 1.0 * np.array(data)\n",
    "    n = len(a)\n",
    "    m, se = np.mean(a), scipy.stats.sem(a)\n",
    "    h = se * scipy.stats.t.ppf((1 + confidence) / 2., n-1)\n",
    "    return m, m-h, m+h"
   ]
  },
  {
   "cell_type": "code",
   "execution_count": 71,
   "metadata": {},
   "outputs": [],
   "source": [
    "resid = Y_test[:,4] - Predictions[:,4]\n",
    "#  Estimate the standard errors:\n",
    "sigma2_est = sum(resid**2) / (len(Y_test[:,4]) - 2)\n",
    "\n",
    "x_mat = np.column_stack((np.ones(len(Y_test[:,4])), Y_test[:,4]))\n",
    "x_new = x_mat\n",
    "y_pred = Predictions[:,4]\n",
    "# Calculate the prediction SE:\n",
    "y_pred_se = np.linalg.inv(np.dot(np.transpose(x_mat), x_mat))\n",
    "y_pred_se = np.dot(np.dot(x_new, y_pred_se), np.transpose(x_new))\n",
    "y_pred_se = np.identity(len(x_new)) + y_pred_se\n",
    "y_pred_se = sigma2_est * y_pred_se\n",
    "y_pred_se = np.sqrt(np.diag(y_pred_se))\n",
    "\n",
    "\n",
    "y_pred_lower = Predictions[:,4] - stats.t.ppf(q = 1 - 0.05 / 2, df = N-2) * y_pred_se\n",
    "y_pred_upper = Predictions[:,4] + stats.t.ppf(q = 1 - 0.05 / 2, df = N-2) * y_pred_se"
   ]
  },
  {
   "cell_type": "code",
   "execution_count": 152,
   "metadata": {},
   "outputs": [
    {
     "data": {
      "text/plain": [
       "[-1, 1, -1, 1]"
      ]
     },
     "execution_count": 152,
     "metadata": {},
     "output_type": "execute_result"
    },
    {
     "data": {
      "image/png": "[encoded data removed]",
      "text/plain": [
       "<Figure size 432x288 with 1 Axes>"
      ]
     },
     "metadata": {
      "needs_background": "light"
     },
     "output_type": "display_data"
    }
   ],
   "source": [
    "#plt.subplot(1, 5, 5)\n",
    "plt.plot(Y_test[:,2], Predictions[:,2],'.k',markersize=3)\n",
    "plt.plot(Y_test[:,2], low,'*g', markersize=3)\n",
    "plt.plot(Y_test[:,2], up,'*g', markersize=3)\n",
    "\n",
    "plt.plot([-1 , 1.],[-1 , 1.],'--r')\n",
    "plt.xlabel(\"elp y (true)\")\n",
    "plt.axis([-1 ,1 ,-1 ,1])"
   ]
  }
 ],
 "metadata": {
  "kernelspec": {
   "display_name": "tf-gpu",
   "language": "python",
   "name": "tf-gpu"
  },
  "language_info": {
   "codemirror_mode": {
    "name": "ipython",
    "version": 3
   },
   "file_extension": ".py",
   "mimetype": "text/x-python",
   "name": "python",
   "nbconvert_exporter": "python",
   "pygments_lexer": "ipython3",
   "version": "3.7.6"
  }
 },
 "nbformat": 4,
 "nbformat_minor": 4
}
