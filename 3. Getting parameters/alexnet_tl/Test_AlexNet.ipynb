{
 "cells": [
  {
   "cell_type": "code",
   "execution_count": 1,
   "metadata": {},
   "outputs": [
    {
     "name": "stderr",
     "output_type": "stream",
     "text": [
      "C:\\Users\\fedor\\.conda\\envs\\tf-gpu\\lib\\site-packages\\tensorflow\\python\\framework\\dtypes.py:516: FutureWarning: Passing (type, 1) or '1type' as a synonym of type is deprecated; in a future version of numpy, it will be understood as (type, (1,)) / '(1,)type'.\n",
      "  _np_qint8 = np.dtype([(\"qint8\", np.int8, 1)])\n",
      "C:\\Users\\fedor\\.conda\\envs\\tf-gpu\\lib\\site-packages\\tensorflow\\python\\framework\\dtypes.py:517: FutureWarning: Passing (type, 1) or '1type' as a synonym of type is deprecated; in a future version of numpy, it will be understood as (type, (1,)) / '(1,)type'.\n",
      "  _np_quint8 = np.dtype([(\"quint8\", np.uint8, 1)])\n",
      "C:\\Users\\fedor\\.conda\\envs\\tf-gpu\\lib\\site-packages\\tensorflow\\python\\framework\\dtypes.py:518: FutureWarning: Passing (type, 1) or '1type' as a synonym of type is deprecated; in a future version of numpy, it will be understood as (type, (1,)) / '(1,)type'.\n",
      "  _np_qint16 = np.dtype([(\"qint16\", np.int16, 1)])\n",
      "C:\\Users\\fedor\\.conda\\envs\\tf-gpu\\lib\\site-packages\\tensorflow\\python\\framework\\dtypes.py:519: FutureWarning: Passing (type, 1) or '1type' as a synonym of type is deprecated; in a future version of numpy, it will be understood as (type, (1,)) / '(1,)type'.\n",
      "  _np_quint16 = np.dtype([(\"quint16\", np.uint16, 1)])\n",
      "C:\\Users\\fedor\\.conda\\envs\\tf-gpu\\lib\\site-packages\\tensorflow\\python\\framework\\dtypes.py:520: FutureWarning: Passing (type, 1) or '1type' as a synonym of type is deprecated; in a future version of numpy, it will be understood as (type, (1,)) / '(1,)type'.\n",
      "  _np_qint32 = np.dtype([(\"qint32\", np.int32, 1)])\n",
      "C:\\Users\\fedor\\.conda\\envs\\tf-gpu\\lib\\site-packages\\tensorflow\\python\\framework\\dtypes.py:525: FutureWarning: Passing (type, 1) or '1type' as a synonym of type is deprecated; in a future version of numpy, it will be understood as (type, (1,)) / '(1,)type'.\n",
      "  np_resource = np.dtype([(\"resource\", np.ubyte, 1)])\n",
      "C:\\Users\\fedor\\.conda\\envs\\tf-gpu\\lib\\site-packages\\tensorboard\\compat\\tensorflow_stub\\dtypes.py:541: FutureWarning: Passing (type, 1) or '1type' as a synonym of type is deprecated; in a future version of numpy, it will be understood as (type, (1,)) / '(1,)type'.\n",
      "  _np_qint8 = np.dtype([(\"qint8\", np.int8, 1)])\n",
      "C:\\Users\\fedor\\.conda\\envs\\tf-gpu\\lib\\site-packages\\tensorboard\\compat\\tensorflow_stub\\dtypes.py:542: FutureWarning: Passing (type, 1) or '1type' as a synonym of type is deprecated; in a future version of numpy, it will be understood as (type, (1,)) / '(1,)type'.\n",
      "  _np_quint8 = np.dtype([(\"quint8\", np.uint8, 1)])\n",
      "C:\\Users\\fedor\\.conda\\envs\\tf-gpu\\lib\\site-packages\\tensorboard\\compat\\tensorflow_stub\\dtypes.py:543: FutureWarning: Passing (type, 1) or '1type' as a synonym of type is deprecated; in a future version of numpy, it will be understood as (type, (1,)) / '(1,)type'.\n",
      "  _np_qint16 = np.dtype([(\"qint16\", np.int16, 1)])\n",
      "C:\\Users\\fedor\\.conda\\envs\\tf-gpu\\lib\\site-packages\\tensorboard\\compat\\tensorflow_stub\\dtypes.py:544: FutureWarning: Passing (type, 1) or '1type' as a synonym of type is deprecated; in a future version of numpy, it will be understood as (type, (1,)) / '(1,)type'.\n",
      "  _np_quint16 = np.dtype([(\"quint16\", np.uint16, 1)])\n",
      "C:\\Users\\fedor\\.conda\\envs\\tf-gpu\\lib\\site-packages\\tensorboard\\compat\\tensorflow_stub\\dtypes.py:545: FutureWarning: Passing (type, 1) or '1type' as a synonym of type is deprecated; in a future version of numpy, it will be understood as (type, (1,)) / '(1,)type'.\n",
      "  _np_qint32 = np.dtype([(\"qint32\", np.int32, 1)])\n",
      "C:\\Users\\fedor\\.conda\\envs\\tf-gpu\\lib\\site-packages\\tensorboard\\compat\\tensorflow_stub\\dtypes.py:550: FutureWarning: Passing (type, 1) or '1type' as a synonym of type is deprecated; in a future version of numpy, it will be understood as (type, (1,)) / '(1,)type'.\n",
      "  np_resource = np.dtype([(\"resource\", np.ubyte, 1)])\n"
     ]
    }
   ],
   "source": [
    "from PIL import Image\n",
    "import tensorflow as tf\n",
    "import scipy.ndimage\n",
    "from scipy import misc\n",
    "\n",
    "from scipy.interpolate import RectBivariateSpline\n",
    "import numpy as np\n",
    "import numpy.matlib as ml\n",
    "import random\n",
    "import time\n",
    "import os\n",
    "import gc\n",
    "import scipy.io\n",
    "\n",
    "import matplotlib.pyplot as plt\n",
    "%matplotlib inline\n",
    "\n",
    "import sys\n",
    "sys.path.append(\"C:/Users/fedor/.conda/envs/tf-gpu/Lib/site-packages/tensorflow/contrib/slim\")"
   ]
  },
  {
   "cell_type": "code",
   "execution_count": 2,
   "metadata": {},
   "outputs": [
    {
     "name": "stdout",
     "output_type": "stream",
     "text": [
      "WARNING:tensorflow:\n",
      "The TensorFlow contrib module will not be included in TensorFlow 2.0.\n",
      "For more information, please see:\n",
      "  * https://github.com/tensorflow/community/blob/master/rfcs/20180907-contrib-sunset.md\n",
      "  * https://github.com/tensorflow/addons\n",
      "  * https://github.com/tensorflow/io (for I/O related ops)\n",
      "If you depend on functionality not listed there, please file an issue.\n",
      "\n"
     ]
    }
   ],
   "source": [
    "tf.reset_default_graph()\n",
    "slim = tf.contrib.slim"
   ]
  },
  {
   "cell_type": "code",
   "execution_count": 3,
   "metadata": {},
   "outputs": [
    {
     "name": "stdout",
     "output_type": "stream",
     "text": [
      "starting the job...\n"
     ]
    }
   ],
   "source": [
    "print(\"starting the job...\")\n",
    "\n",
    "num_out = 5    #number ouf output parameters being predicted\n",
    "\n",
    "global numpix_side \n",
    "numpix_side = 192   #number of image pixels on the side\n",
    "\n",
    "global max_noise_rms, max_psf_rms , max_cr_intensity\n",
    "max_trainoise_rms = 0.1 # maximum rms of noise in training data\n",
    "max_testnoise_rms = 0.1 # maximum rms of noise in test or validation data\n",
    "max_noise_rms = max_testnoise_rms\n",
    "\n",
    "max_psf_rms = 0.08/0.04  # maximum Gaussian PSF rms (in pixels)\n",
    "max_cr_intensity = 0.5 # maximum scaling for cosmic ray and artefact maps\n",
    "\n",
    "global constant_noise_rms\n",
    "variable_noise_rms = True  #if True, the noise rms will be chosen randomly for each sample with a max of max_noise_rms (above)\n",
    "\n",
    "global pix_res\n",
    "pix_res = 0.04 # pixel size in arcsec\n",
    "L_side = pix_res * numpix_side\n",
    "\n",
    "global arcs_data_path_1, arcs_data_path_2 , test_data_path_1 , test_data_path_2 , CRay_data_path\n",
    "global lens_data_path_1, lens_data_path_2, testlens_data_path_1, testlens_data_path_2 \n",
    "\n",
    "global min_unmasked_flux \n",
    "min_unmasked_flux = 0.75\n",
    "\n",
    "#number of folders containing training or test data. If all 3 point to the same folder that's OK (only that folder will be used).\n",
    "global num_data_dirs\n",
    "num_data_dirs = 3\n",
    "\n",
    "num_training_samples = 79992\n",
    "\n",
    "PATH_train = 'D:/'\n",
    "PATH_test = 'D:/'\n",
    "\n",
    "arcs_data_path_1 = PATH_train + 'lensed_images/'\n",
    "arcs_data_path_2 = arcs_data_path_1\n",
    "arcs_data_path_3 = arcs_data_path_1\n",
    "\n",
    "test_data_path_1 = PATH_test + 'lensed_images_test/'\n",
    "test_data_path_2 = test_data_path_1\n",
    "test_data_path_3 = test_data_path_1\n",
    "\n",
    "lens_data_path_1 = PATH_train + 'lensed_images/'\n",
    "lens_data_path_2 = lens_data_path_1\n",
    "lens_data_path_3 = lens_data_path_1\n",
    "\n",
    "testlens_data_path_1 = PATH_test + 'lensed_images_test/'\n",
    "testlens_data_path_2 = testlens_data_path_1\n",
    "testlens_data_path_3 = testlens_data_path_1\n",
    "\n",
    "#folder containing cosmic rays\n",
    "CRay_data_path   = '../../data_Ensai/CosmicRays/'\n",
    "\n",
    "global max_xy_range   # xy range of center of the lens. The image is shifted in a central area with a side of max_xy_range (arcsec) during training or testing\n",
    "max_xy_range = 0.5"
   ]
  },
  {
   "cell_type": "code",
   "execution_count": 4,
   "metadata": {},
   "outputs": [],
   "source": [
    "exec(open(\"get_data.py\").read())\n",
    "exec(open(\"ensai_model.py\").read())"
   ]
  },
  {
   "cell_type": "code",
   "execution_count": 5,
   "metadata": {},
   "outputs": [],
   "source": [
    "# %%%%%%%%%%%%%%%%%%%%%%%%%%%%%%%%%%%%%%%%% MODEL DEFINITION\n",
    "\n",
    "x = tf.placeholder(tf.float32, shape=[None, numpix_side*numpix_side])   #placeholder for input image\n",
    "y_ = tf.placeholder(tf.float32, shape=[None,num_out])    #placeholder for output parameters during training\n",
    "x_image0 = tf.reshape(x, [-1,numpix_side,numpix_side,1])\n",
    "\n",
    "# removing image intensity bias: filter image with a 4X4 filter and remove from image\n",
    "MASK = tf.abs(tf.sign(x_image0))\n",
    "XX =  x_image0 +  ( (1-MASK) * 1000.0)\n",
    "bias_measure_filt = tf.constant((1.0/16.0), shape=[4, 4, 1, 1])\n",
    "bias_measure = tf.nn.conv2d( XX , bias_measure_filt , strides=[1, 1, 1, 1], padding='VALID')\n",
    "im_bias = tf.reshape( tf.reduce_min(bias_measure,axis=[1,2,3]) , [-1,1,1,1] )\n",
    "x_image = x_image0 - (im_bias * MASK )\n",
    "x_input = tf.concat([x_image,x_image,x_image], axis=3)"
   ]
  },
  {
   "cell_type": "code",
   "execution_count": 6,
   "metadata": {
    "scrolled": true
   },
   "outputs": [
    {
     "name": "stdout",
     "output_type": "stream",
     "text": [
      "WARNING:tensorflow:Entity <bound method Conv.call of <tensorflow.python.layers.convolutional.Conv2D object at 0x000001D78525AC08>> could not be transformed and will be executed as-is. Please report this to the AutgoGraph team. When filing the bug, set the verbosity to 10 (on Linux, `export AUTOGRAPH_VERBOSITY=10`) and attach the full output. Cause: converting <bound method Conv.call of <tensorflow.python.layers.convolutional.Conv2D object at 0x000001D78525AC08>>: AssertionError: Bad argument number for Name: 3, expecting 4\n",
      "WARNING: Entity <bound method Conv.call of <tensorflow.python.layers.convolutional.Conv2D object at 0x000001D78525AC08>> could not be transformed and will be executed as-is. Please report this to the AutgoGraph team. When filing the bug, set the verbosity to 10 (on Linux, `export AUTOGRAPH_VERBOSITY=10`) and attach the full output. Cause: converting <bound method Conv.call of <tensorflow.python.layers.convolutional.Conv2D object at 0x000001D78525AC08>>: AssertionError: Bad argument number for Name: 3, expecting 4\n",
      "WARNING:tensorflow:Entity <bound method Pooling2D.call of <tensorflow.python.layers.pooling.MaxPooling2D object at 0x000001D7817A2C88>> could not be transformed and will be executed as-is. Please report this to the AutgoGraph team. When filing the bug, set the verbosity to 10 (on Linux, `export AUTOGRAPH_VERBOSITY=10`) and attach the full output. Cause: converting <bound method Pooling2D.call of <tensorflow.python.layers.pooling.MaxPooling2D object at 0x000001D7817A2C88>>: AssertionError: Bad argument number for Name: 3, expecting 4\n",
      "WARNING: Entity <bound method Pooling2D.call of <tensorflow.python.layers.pooling.MaxPooling2D object at 0x000001D7817A2C88>> could not be transformed and will be executed as-is. Please report this to the AutgoGraph team. When filing the bug, set the verbosity to 10 (on Linux, `export AUTOGRAPH_VERBOSITY=10`) and attach the full output. Cause: converting <bound method Pooling2D.call of <tensorflow.python.layers.pooling.MaxPooling2D object at 0x000001D7817A2C88>>: AssertionError: Bad argument number for Name: 3, expecting 4\n",
      "WARNING:tensorflow:Entity <bound method Conv.call of <tensorflow.python.layers.convolutional.Conv2D object at 0x000001D7817DB208>> could not be transformed and will be executed as-is. Please report this to the AutgoGraph team. When filing the bug, set the verbosity to 10 (on Linux, `export AUTOGRAPH_VERBOSITY=10`) and attach the full output. Cause: converting <bound method Conv.call of <tensorflow.python.layers.convolutional.Conv2D object at 0x000001D7817DB208>>: AssertionError: Bad argument number for Name: 3, expecting 4\n",
      "WARNING: Entity <bound method Conv.call of <tensorflow.python.layers.convolutional.Conv2D object at 0x000001D7817DB208>> could not be transformed and will be executed as-is. Please report this to the AutgoGraph team. When filing the bug, set the verbosity to 10 (on Linux, `export AUTOGRAPH_VERBOSITY=10`) and attach the full output. Cause: converting <bound method Conv.call of <tensorflow.python.layers.convolutional.Conv2D object at 0x000001D7817DB208>>: AssertionError: Bad argument number for Name: 3, expecting 4\n",
      "WARNING:tensorflow:Entity <bound method Pooling2D.call of <tensorflow.python.layers.pooling.MaxPooling2D object at 0x000001D784E2D688>> could not be transformed and will be executed as-is. Please report this to the AutgoGraph team. When filing the bug, set the verbosity to 10 (on Linux, `export AUTOGRAPH_VERBOSITY=10`) and attach the full output. Cause: converting <bound method Pooling2D.call of <tensorflow.python.layers.pooling.MaxPooling2D object at 0x000001D784E2D688>>: AssertionError: Bad argument number for Name: 3, expecting 4\n",
      "WARNING: Entity <bound method Pooling2D.call of <tensorflow.python.layers.pooling.MaxPooling2D object at 0x000001D784E2D688>> could not be transformed and will be executed as-is. Please report this to the AutgoGraph team. When filing the bug, set the verbosity to 10 (on Linux, `export AUTOGRAPH_VERBOSITY=10`) and attach the full output. Cause: converting <bound method Pooling2D.call of <tensorflow.python.layers.pooling.MaxPooling2D object at 0x000001D784E2D688>>: AssertionError: Bad argument number for Name: 3, expecting 4\n",
      "WARNING:tensorflow:Entity <bound method Conv.call of <tensorflow.python.layers.convolutional.Conv2D object at 0x000001D783A8B788>> could not be transformed and will be executed as-is. Please report this to the AutgoGraph team. When filing the bug, set the verbosity to 10 (on Linux, `export AUTOGRAPH_VERBOSITY=10`) and attach the full output. Cause: converting <bound method Conv.call of <tensorflow.python.layers.convolutional.Conv2D object at 0x000001D783A8B788>>: AssertionError: Bad argument number for Name: 3, expecting 4\n",
      "WARNING: Entity <bound method Conv.call of <tensorflow.python.layers.convolutional.Conv2D object at 0x000001D783A8B788>> could not be transformed and will be executed as-is. Please report this to the AutgoGraph team. When filing the bug, set the verbosity to 10 (on Linux, `export AUTOGRAPH_VERBOSITY=10`) and attach the full output. Cause: converting <bound method Conv.call of <tensorflow.python.layers.convolutional.Conv2D object at 0x000001D783A8B788>>: AssertionError: Bad argument number for Name: 3, expecting 4\n",
      "WARNING:tensorflow:Entity <bound method Conv.call of <tensorflow.python.layers.convolutional.Conv2D object at 0x000001D783A6FDC8>> could not be transformed and will be executed as-is. Please report this to the AutgoGraph team. When filing the bug, set the verbosity to 10 (on Linux, `export AUTOGRAPH_VERBOSITY=10`) and attach the full output. Cause: converting <bound method Conv.call of <tensorflow.python.layers.convolutional.Conv2D object at 0x000001D783A6FDC8>>: AssertionError: Bad argument number for Name: 3, expecting 4\n",
      "WARNING: Entity <bound method Conv.call of <tensorflow.python.layers.convolutional.Conv2D object at 0x000001D783A6FDC8>> could not be transformed and will be executed as-is. Please report this to the AutgoGraph team. When filing the bug, set the verbosity to 10 (on Linux, `export AUTOGRAPH_VERBOSITY=10`) and attach the full output. Cause: converting <bound method Conv.call of <tensorflow.python.layers.convolutional.Conv2D object at 0x000001D783A6FDC8>>: AssertionError: Bad argument number for Name: 3, expecting 4\n",
      "WARNING:tensorflow:Entity <bound method Conv.call of <tensorflow.python.layers.convolutional.Conv2D object at 0x000001D783B24DC8>> could not be transformed and will be executed as-is. Please report this to the AutgoGraph team. When filing the bug, set the verbosity to 10 (on Linux, `export AUTOGRAPH_VERBOSITY=10`) and attach the full output. Cause: converting <bound method Conv.call of <tensorflow.python.layers.convolutional.Conv2D object at 0x000001D783B24DC8>>: AssertionError: Bad argument number for Name: 3, expecting 4\n",
      "WARNING: Entity <bound method Conv.call of <tensorflow.python.layers.convolutional.Conv2D object at 0x000001D783B24DC8>> could not be transformed and will be executed as-is. Please report this to the AutgoGraph team. When filing the bug, set the verbosity to 10 (on Linux, `export AUTOGRAPH_VERBOSITY=10`) and attach the full output. Cause: converting <bound method Conv.call of <tensorflow.python.layers.convolutional.Conv2D object at 0x000001D783B24DC8>>: AssertionError: Bad argument number for Name: 3, expecting 4\n",
      "WARNING:tensorflow:Entity <bound method Pooling2D.call of <tensorflow.python.layers.pooling.MaxPooling2D object at 0x000001D78525A7C8>> could not be transformed and will be executed as-is. Please report this to the AutgoGraph team. When filing the bug, set the verbosity to 10 (on Linux, `export AUTOGRAPH_VERBOSITY=10`) and attach the full output. Cause: converting <bound method Pooling2D.call of <tensorflow.python.layers.pooling.MaxPooling2D object at 0x000001D78525A7C8>>: AssertionError: Bad argument number for Name: 3, expecting 4\n",
      "WARNING: Entity <bound method Pooling2D.call of <tensorflow.python.layers.pooling.MaxPooling2D object at 0x000001D78525A7C8>> could not be transformed and will be executed as-is. Please report this to the AutgoGraph team. When filing the bug, set the verbosity to 10 (on Linux, `export AUTOGRAPH_VERBOSITY=10`) and attach the full output. Cause: converting <bound method Pooling2D.call of <tensorflow.python.layers.pooling.MaxPooling2D object at 0x000001D78525A7C8>>: AssertionError: Bad argument number for Name: 3, expecting 4\n",
      "WARNING:tensorflow:Entity <bound method Conv.call of <tensorflow.python.layers.convolutional.Conv2D object at 0x000001D783A6FFC8>> could not be transformed and will be executed as-is. Please report this to the AutgoGraph team. When filing the bug, set the verbosity to 10 (on Linux, `export AUTOGRAPH_VERBOSITY=10`) and attach the full output. Cause: converting <bound method Conv.call of <tensorflow.python.layers.convolutional.Conv2D object at 0x000001D783A6FFC8>>: AssertionError: Bad argument number for Name: 3, expecting 4\n",
      "WARNING: Entity <bound method Conv.call of <tensorflow.python.layers.convolutional.Conv2D object at 0x000001D783A6FFC8>> could not be transformed and will be executed as-is. Please report this to the AutgoGraph team. When filing the bug, set the verbosity to 10 (on Linux, `export AUTOGRAPH_VERBOSITY=10`) and attach the full output. Cause: converting <bound method Conv.call of <tensorflow.python.layers.convolutional.Conv2D object at 0x000001D783A6FFC8>>: AssertionError: Bad argument number for Name: 3, expecting 4\n",
      "WARNING:tensorflow:Entity <bound method Conv.call of <tensorflow.python.layers.convolutional.Conv2D object at 0x000001D783A5FB88>> could not be transformed and will be executed as-is. Please report this to the AutgoGraph team. When filing the bug, set the verbosity to 10 (on Linux, `export AUTOGRAPH_VERBOSITY=10`) and attach the full output. Cause: converting <bound method Conv.call of <tensorflow.python.layers.convolutional.Conv2D object at 0x000001D783A5FB88>>: AssertionError: Bad argument number for Name: 3, expecting 4\n",
      "WARNING: Entity <bound method Conv.call of <tensorflow.python.layers.convolutional.Conv2D object at 0x000001D783A5FB88>> could not be transformed and will be executed as-is. Please report this to the AutgoGraph team. When filing the bug, set the verbosity to 10 (on Linux, `export AUTOGRAPH_VERBOSITY=10`) and attach the full output. Cause: converting <bound method Conv.call of <tensorflow.python.layers.convolutional.Conv2D object at 0x000001D783A5FB88>>: AssertionError: Bad argument number for Name: 3, expecting 4\n",
      "WARNING:tensorflow:Entity <bound method Conv.call of <tensorflow.python.layers.convolutional.Conv2D object at 0x000001D785350B48>> could not be transformed and will be executed as-is. Please report this to the AutgoGraph team. When filing the bug, set the verbosity to 10 (on Linux, `export AUTOGRAPH_VERBOSITY=10`) and attach the full output. Cause: converting <bound method Conv.call of <tensorflow.python.layers.convolutional.Conv2D object at 0x000001D785350B48>>: AssertionError: Bad argument number for Name: 3, expecting 4\n",
      "WARNING: Entity <bound method Conv.call of <tensorflow.python.layers.convolutional.Conv2D object at 0x000001D785350B48>> could not be transformed and will be executed as-is. Please report this to the AutgoGraph team. When filing the bug, set the verbosity to 10 (on Linux, `export AUTOGRAPH_VERBOSITY=10`) and attach the full output. Cause: converting <bound method Conv.call of <tensorflow.python.layers.convolutional.Conv2D object at 0x000001D785350B48>>: AssertionError: Bad argument number for Name: 3, expecting 4\n"
     ]
    }
   ],
   "source": [
    "with tf.variable_scope(\"ENSAI\"):\n",
    "    #x_input = slim.conv2d(x_image, 3,(3,3),padding='same', scope = 'new')    # x has a dimension of (IMG_SIZE,IMG_SIZE,3) \n",
    "    y_out = model_9(x_input,scope=\"model_9\")"
   ]
  },
  {
   "cell_type": "code",
   "execution_count": 7,
   "metadata": {},
   "outputs": [],
   "source": [
    "variables_to_restore =  slim.get_variables(scope=\"ENSAI\")   #list of variables to save"
   ]
  },
  {
   "cell_type": "code",
   "execution_count": 8,
   "metadata": {},
   "outputs": [
    {
     "data": {
      "text/plain": [
       "[<tf.Variable 'ENSAI/model_9/conv1/weights:0' shape=(11, 11, 3, 64) dtype=float32_ref>,\n",
       " <tf.Variable 'ENSAI/model_9/conv1/biases:0' shape=(64,) dtype=float32_ref>,\n",
       " <tf.Variable 'ENSAI/model_9/conv2/weights:0' shape=(5, 5, 64, 192) dtype=float32_ref>,\n",
       " <tf.Variable 'ENSAI/model_9/conv2/biases:0' shape=(192,) dtype=float32_ref>,\n",
       " <tf.Variable 'ENSAI/model_9/conv3/weights:0' shape=(3, 3, 192, 384) dtype=float32_ref>,\n",
       " <tf.Variable 'ENSAI/model_9/conv3/biases:0' shape=(384,) dtype=float32_ref>,\n",
       " <tf.Variable 'ENSAI/model_9/conv4/weights:0' shape=(3, 3, 384, 384) dtype=float32_ref>,\n",
       " <tf.Variable 'ENSAI/model_9/conv4/biases:0' shape=(384,) dtype=float32_ref>,\n",
       " <tf.Variable 'ENSAI/model_9/conv5/weights:0' shape=(3, 3, 384, 256) dtype=float32_ref>,\n",
       " <tf.Variable 'ENSAI/model_9/conv5/biases:0' shape=(256,) dtype=float32_ref>,\n",
       " <tf.Variable 'ENSAI/model_9/fc6/weights:0' shape=(4, 4, 256, 4096) dtype=float32_ref>,\n",
       " <tf.Variable 'ENSAI/model_9/fc6/biases:0' shape=(4096,) dtype=float32_ref>,\n",
       " <tf.Variable 'ENSAI/model_9/fc7/weights:0' shape=(1, 1, 4096, 4096) dtype=float32_ref>,\n",
       " <tf.Variable 'ENSAI/model_9/fc7/biases:0' shape=(4096,) dtype=float32_ref>,\n",
       " <tf.Variable 'ENSAI/model_9/fc8/weights:0' shape=(1, 1, 4096, 5) dtype=float32_ref>,\n",
       " <tf.Variable 'ENSAI/model_9/fc8/biases:0' shape=(5,) dtype=float32_ref>]"
      ]
     },
     "execution_count": 8,
     "metadata": {},
     "output_type": "execute_result"
    }
   ],
   "source": [
    "variables_to_restore"
   ]
  },
  {
   "cell_type": "code",
   "execution_count": 9,
   "metadata": {},
   "outputs": [],
   "source": [
    "restore_file = './ckpt/alex_model_tl.ckpt'   #path of network weights file to restore from\n",
    "\n",
    "RESTORE = True\n",
    "SAVE = False\n",
    "restorer = tf.train.Saver(variables_to_restore)"
   ]
  },
  {
   "cell_type": "code",
   "execution_count": 10,
   "metadata": {},
   "outputs": [
    {
     "data": {
      "text/plain": [
       "{'ENSAI/model_9/conv1/biases': [64],\n",
       " 'ENSAI/model_9/conv5/biases': [256],\n",
       " 'ENSAI/model_9/conv1/weights': [11, 11, 3, 64],\n",
       " 'ENSAI/model_9/conv4/weights': [3, 3, 384, 384],\n",
       " 'ENSAI/model_9/conv2/biases': [192],\n",
       " 'ENSAI/model_9/conv4/biases': [384],\n",
       " 'ENSAI/model_9/conv2/weights': [5, 5, 64, 192],\n",
       " 'ENSAI/model_9/conv3/biases': [384],\n",
       " 'ENSAI/model_9/conv3/weights': [3, 3, 192, 384],\n",
       " 'ENSAI/model_9/conv5/weights': [3, 3, 384, 256],\n",
       " 'ENSAI/model_9/fc6/weights': [4, 4, 256, 4096],\n",
       " 'ENSAI/model_9/fc6/biases': [4096],\n",
       " 'ENSAI/model_9/fc7/biases': [4096],\n",
       " 'ENSAI/model_9/fc7/weights': [1, 1, 4096, 4096],\n",
       " 'ENSAI/model_9/fc8/biases': [5],\n",
       " 'ENSAI/model_9/fc8/weights': [1, 1, 4096, 5]}"
      ]
     },
     "execution_count": 10,
     "metadata": {},
     "output_type": "execute_result"
    }
   ],
   "source": [
    "reader = tf.train.NewCheckpointReader(restore_file)\n",
    "reader.get_variable_to_shape_map()"
   ]
  },
  {
   "cell_type": "code",
   "execution_count": 11,
   "metadata": {},
   "outputs": [],
   "source": [
    "############## flipping and cost function\n",
    "MeanSquareCost , y_out_flipped = cost_tensor(y_out)"
   ]
  },
  {
   "cell_type": "markdown",
   "metadata": {},
   "source": [
    "### Training"
   ]
  },
  {
   "cell_type": "code",
   "execution_count": 12,
   "metadata": {},
   "outputs": [],
   "source": [
    "################ OPTIMIZER:\n",
    "#learning_rate = 0.1\n",
    "#train_step = tf.train.GradientDescentOptimizer(learning_rate).minimize(MeanSquareCost,var_list=train_pars)\n",
    "##########################"
   ]
  },
  {
   "cell_type": "code",
   "execution_count": 13,
   "metadata": {},
   "outputs": [],
   "source": [
    "num_test_samples = 200 # number of test samples\n",
    "max_num_test_samples = 10003\n",
    "\n",
    "X_test = np.zeros((num_test_samples,numpix_side*numpix_side), dtype='float32'  );\n",
    "Y_test = np.zeros((num_test_samples,num_out), dtype='float32' );\n",
    "MAG_test = np.zeros((num_test_samples,1), dtype='float32' );\n",
    "Predictions = np.zeros((num_test_samples , num_out ) , dtype='float32' )\n",
    "errors = np.zeros((num_test_samples , num_out ) , dtype='float32' )\n",
    "# max_noise_rms = max_testnoise_rms\n",
    "\n",
    "ind_t = range(num_test_samples)"
   ]
  },
  {
   "cell_type": "code",
   "execution_count": 14,
   "metadata": {},
   "outputs": [],
   "source": [
    "read_data_batch(X_test, Y_test, MAG_test, max_num_test_samples, 'test')"
   ]
  },
  {
   "cell_type": "code",
   "execution_count": 15,
   "metadata": {},
   "outputs": [
    {
     "name": "stdout",
     "output_type": "stream",
     "text": [
      "WARNING:tensorflow:From C:\\Users\\fedor\\.conda\\envs\\tf-gpu\\lib\\site-packages\\tensorflow\\python\\training\\saver.py:1276: checkpoint_exists (from tensorflow.python.training.checkpoint_management) is deprecated and will be removed in a future version.\n",
      "Instructions for updating:\n",
      "Use standard file APIs to check for files with this prefix.\n",
      "INFO:tensorflow:Restoring parameters from ./ckpt/alex_model_tl.ckpt\n"
     ]
    }
   ],
   "source": [
    "sess = tf.Session()\n",
    "sess.run(tf.global_variables_initializer())\n",
    "\n",
    "if RESTORE:\n",
    "    restorer.restore(sess, restore_file)"
   ]
  },
  {
   "cell_type": "code",
   "execution_count": 16,
   "metadata": {},
   "outputs": [
    {
     "name": "stdout",
     "output_type": "stream",
     "text": [
      "modAlexNet, [0.06 0.06 0.1  0.06 0.06]\n"
     ]
    }
   ],
   "source": [
    "model_num = 'AlexNet'\n",
    "\n",
    "sum_rms = 0\n",
    "eval_cost = 0\n",
    "chunk_size = 50\n",
    "num_chunks = int(num_test_samples/chunk_size)\n",
    "for it in range(num_chunks):\n",
    "        #eval_cost  = eval_cost + sess.run(MeanSquareCost, feed_dict={x: X_test[ind_t[0+chunk_size*it:chunk_size+chunk_size*it]], y_: Y_test[ind_t[0+chunk_size*it:chunk_size+chunk_size*it],:]})\n",
    "        A = sess.run(y_out , feed_dict={ x: X_test[ind_t[0+chunk_size*it:chunk_size+chunk_size*it]]})\n",
    "        B = sess.run(y_out_flipped , feed_dict={ x: X_test[ind_t[0+chunk_size*it:chunk_size+chunk_size*it]]})\n",
    "        Predictions[ind_t[0+chunk_size*it:chunk_size+chunk_size*it],:] = get_rotation_corrected(A,B,Y_test[ind_t[0+chunk_size*it:chunk_size+chunk_size*it],:])\n",
    "        sum_rms = sum_rms + np.std(Predictions[ind_t[0+chunk_size*it:chunk_size+chunk_size*it],:]- \\\n",
    "                                   Y_test[ind_t[0+chunk_size*it:chunk_size+chunk_size*it],:],axis=0)\n",
    "        errors[ind_t[0+chunk_size*it:chunk_size+chunk_size*it],:] = (Predictions[ind_t[0+chunk_size*it:chunk_size+chunk_size*it],:]- \\\n",
    "                                   Y_test[ind_t[0+chunk_size*it:chunk_size+chunk_size*it],:])\n",
    "        \n",
    "#eval_cost = eval_cost / num_chunks\n",
    "print(\"mod\"+ str(model_num) + \", \"  + np.array_str( sum_rms/num_chunks  ,precision=2) )"
   ]
  },
  {
   "cell_type": "code",
   "execution_count": 17,
   "metadata": {},
   "outputs": [
    {
     "name": "stdout",
     "output_type": "stream",
     "text": [
      "[0.093140 0.091965 0.115477 0.092731 0.083741]\n"
     ]
    }
   ],
   "source": [
    "theta_68 = (np.percentile(errors[:,0], 84) - np.percentile(errors[:,0], 16))\n",
    "elp_x_68 = (np.percentile(errors[:,1], 84) - np.percentile(errors[:,1], 16))\n",
    "elp_y_68 = (np.percentile(errors[:,2], 84) - np.percentile(errors[:,2], 16))\n",
    "x_68 = (np.percentile(errors[:,3], 84) - np.percentile(errors[:,3], 16))\n",
    "y_68 =(np.percentile(errors[:,4], 84) - np.percentile(errors[:,4], 16))\n",
    "\n",
    "print(\"[{:f} {:f} {:f} {:f} {:f}]\".format(theta_68, elp_x_68, elp_y_68, x_68, y_68))"
   ]
  },
  {
   "cell_type": "code",
   "execution_count": 18,
   "metadata": {},
   "outputs": [
    {
     "data": {
      "image/png": "[encoded data removed]",
      "text/plain": [
       "<Figure size 432x288 with 1 Axes>"
      ]
     },
     "metadata": {
      "needs_background": "light"
     },
     "output_type": "display_data"
    }
   ],
   "source": [
    "fig, ax = plt.subplots(1, 1)\n",
    "\n",
    "ax.hist(errors[:,0], density = False, bins = 20, alpha = 0.5, label = 'Ein')\n",
    "ax.hist(errors[:,1], density = False, bins = 20, alpha = 0.5, label = 'elp_x')\n",
    "ax.hist(errors[:,2], density = False, bins = 20, alpha = 0.5, label = 'elp_y')\n",
    "ax.hist(errors[:,3], density = False, bins = 20, alpha = 0.5, label = 'x')\n",
    "ax.hist(errors[:,4], density = False, bins = 20, alpha = 0.5, label = 'y')\n",
    "ax.legend()\n",
    "ax.set_title('Гистограмма ошибок')\n",
    "plt.show()"
   ]
  },
  {
   "cell_type": "code",
   "execution_count": 35,
   "metadata": {},
   "outputs": [
    {
     "data": {
      "image/png": "[encoded data removed]",
      "text/plain": [
       "<Figure size 1440x288 with 5 Axes>"
      ]
     },
     "metadata": {
      "needs_background": "light"
     },
     "output_type": "display_data"
    }
   ],
   "source": [
    "# And here's the fun part:\n",
    "# plot the recovered parameters (y-axis) against their true values (x-axis)\n",
    "\n",
    "plt.figure(figsize=(20, 4))\n",
    "plt.subplot(1, 5, 1)\n",
    "plt.plot(Y_test[:,0],Predictions[:,0],' .')\n",
    "plt.plot([0 , 3.5],[0 , 3.5],'--r')\n",
    "plt.xlabel(\"Ein rad (true)\", fontsize =20)\n",
    "plt.ylabel(\"Ein rad (predict)\", fontsize =20)\n",
    "#plt.axis([0 ,3 ,0 ,3])\n",
    "\n",
    "plt.subplot(1, 5, 2)\n",
    "plt.plot(Y_test[:,1],Predictions[:,1],' .')\n",
    "plt.plot([-1 , 1.],[-1 , 1.],'--r')\n",
    "plt.xlabel(\"elp x (true)\", fontsize =20)\n",
    "plt.axis([-1 ,1 ,-1 ,1])\n",
    "\n",
    "\n",
    "plt.subplot(1, 5, 3)\n",
    "plt.plot(Y_test[:,2],Predictions[:,2],' .')\n",
    "plt.plot([-1 , 1.],[-1 , 1.],'--r')\n",
    "plt.xlabel(\"elp y (true)\", fontsize =20)\n",
    "plt.axis([-1 ,1 ,-1 ,1])\n",
    "\n",
    "\n",
    "plt.subplot(1, 5, 4)\n",
    "plt.plot(Y_test[:,3],Predictions[:,3],' .')\n",
    "plt.plot([-0.4 , 0.4],[-0.4 , 0.4],'--r')\n",
    "plt.xlabel(\"x (true)\", fontsize =20)\n",
    "\n",
    "plt.axis([-0.4 ,0.4 ,-0.4 ,0.4])\n",
    "\n",
    "\n",
    "plt.subplot(1, 5, 5)\n",
    "plt.plot(Y_test[:,4],Predictions[:,4],' .')\n",
    "plt.plot([-0.4 , 0.4],[-0.4 , 0.4],'--r')\n",
    "plt.xlabel(\"y (true)\", fontsize =20)\n",
    "plt.axis([-0.4 ,0.4 ,-0.4 ,0.4])\n",
    "\n",
    "plt.savefig(\"AlexNet_graphs.png\")"
   ]
  },
  {
   "cell_type": "code",
   "execution_count": null,
   "metadata": {},
   "outputs": [],
   "source": []
  }
 ],
 "metadata": {
  "kernelspec": {
   "display_name": "tf-gpu",
   "language": "python",
   "name": "tf-gpu"
  },
  "language_info": {
   "codemirror_mode": {
    "name": "ipython",
    "version": 3
   },
   "file_extension": ".py",
   "mimetype": "text/x-python",
   "name": "python",
   "nbconvert_exporter": "python",
   "pygments_lexer": "ipython3",
   "version": "3.7.6"
  }
 },
 "nbformat": 4,
 "nbformat_minor": 4
}
