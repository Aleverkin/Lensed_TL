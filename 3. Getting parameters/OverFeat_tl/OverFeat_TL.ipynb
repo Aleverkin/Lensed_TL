{
 "cells": [
  {
   "cell_type": "code",
   "execution_count": 1,
   "metadata": {
    "collapsed": true,
    "jupyter": {
     "outputs_hidden": true
    }
   },
   "outputs": [
    {
     "name": "stderr",
     "output_type": "stream",
     "text": [
      "C:\\Users\\fedor\\.conda\\envs\\tf-gpu\\lib\\site-packages\\tensorflow\\python\\framework\\dtypes.py:516: FutureWarning: Passing (type, 1) or '1type' as a synonym of type is deprecated; in a future version of numpy, it will be understood as (type, (1,)) / '(1,)type'.\n",
      "  _np_qint8 = np.dtype([(\"qint8\", np.int8, 1)])\n",
      "C:\\Users\\fedor\\.conda\\envs\\tf-gpu\\lib\\site-packages\\tensorflow\\python\\framework\\dtypes.py:517: FutureWarning: Passing (type, 1) or '1type' as a synonym of type is deprecated; in a future version of numpy, it will be understood as (type, (1,)) / '(1,)type'.\n",
      "  _np_quint8 = np.dtype([(\"quint8\", np.uint8, 1)])\n",
      "C:\\Users\\fedor\\.conda\\envs\\tf-gpu\\lib\\site-packages\\tensorflow\\python\\framework\\dtypes.py:518: FutureWarning: Passing (type, 1) or '1type' as a synonym of type is deprecated; in a future version of numpy, it will be understood as (type, (1,)) / '(1,)type'.\n",
      "  _np_qint16 = np.dtype([(\"qint16\", np.int16, 1)])\n",
      "C:\\Users\\fedor\\.conda\\envs\\tf-gpu\\lib\\site-packages\\tensorflow\\python\\framework\\dtypes.py:519: FutureWarning: Passing (type, 1) or '1type' as a synonym of type is deprecated; in a future version of numpy, it will be understood as (type, (1,)) / '(1,)type'.\n",
      "  _np_quint16 = np.dtype([(\"quint16\", np.uint16, 1)])\n",
      "C:\\Users\\fedor\\.conda\\envs\\tf-gpu\\lib\\site-packages\\tensorflow\\python\\framework\\dtypes.py:520: FutureWarning: Passing (type, 1) or '1type' as a synonym of type is deprecated; in a future version of numpy, it will be understood as (type, (1,)) / '(1,)type'.\n",
      "  _np_qint32 = np.dtype([(\"qint32\", np.int32, 1)])\n",
      "C:\\Users\\fedor\\.conda\\envs\\tf-gpu\\lib\\site-packages\\tensorflow\\python\\framework\\dtypes.py:525: FutureWarning: Passing (type, 1) or '1type' as a synonym of type is deprecated; in a future version of numpy, it will be understood as (type, (1,)) / '(1,)type'.\n",
      "  np_resource = np.dtype([(\"resource\", np.ubyte, 1)])\n",
      "C:\\Users\\fedor\\.conda\\envs\\tf-gpu\\lib\\site-packages\\tensorboard\\compat\\tensorflow_stub\\dtypes.py:541: FutureWarning: Passing (type, 1) or '1type' as a synonym of type is deprecated; in a future version of numpy, it will be understood as (type, (1,)) / '(1,)type'.\n",
      "  _np_qint8 = np.dtype([(\"qint8\", np.int8, 1)])\n",
      "C:\\Users\\fedor\\.conda\\envs\\tf-gpu\\lib\\site-packages\\tensorboard\\compat\\tensorflow_stub\\dtypes.py:542: FutureWarning: Passing (type, 1) or '1type' as a synonym of type is deprecated; in a future version of numpy, it will be understood as (type, (1,)) / '(1,)type'.\n",
      "  _np_quint8 = np.dtype([(\"quint8\", np.uint8, 1)])\n",
      "C:\\Users\\fedor\\.conda\\envs\\tf-gpu\\lib\\site-packages\\tensorboard\\compat\\tensorflow_stub\\dtypes.py:543: FutureWarning: Passing (type, 1) or '1type' as a synonym of type is deprecated; in a future version of numpy, it will be understood as (type, (1,)) / '(1,)type'.\n",
      "  _np_qint16 = np.dtype([(\"qint16\", np.int16, 1)])\n",
      "C:\\Users\\fedor\\.conda\\envs\\tf-gpu\\lib\\site-packages\\tensorboard\\compat\\tensorflow_stub\\dtypes.py:544: FutureWarning: Passing (type, 1) or '1type' as a synonym of type is deprecated; in a future version of numpy, it will be understood as (type, (1,)) / '(1,)type'.\n",
      "  _np_quint16 = np.dtype([(\"quint16\", np.uint16, 1)])\n",
      "C:\\Users\\fedor\\.conda\\envs\\tf-gpu\\lib\\site-packages\\tensorboard\\compat\\tensorflow_stub\\dtypes.py:545: FutureWarning: Passing (type, 1) or '1type' as a synonym of type is deprecated; in a future version of numpy, it will be understood as (type, (1,)) / '(1,)type'.\n",
      "  _np_qint32 = np.dtype([(\"qint32\", np.int32, 1)])\n",
      "C:\\Users\\fedor\\.conda\\envs\\tf-gpu\\lib\\site-packages\\tensorboard\\compat\\tensorflow_stub\\dtypes.py:550: FutureWarning: Passing (type, 1) or '1type' as a synonym of type is deprecated; in a future version of numpy, it will be understood as (type, (1,)) / '(1,)type'.\n",
      "  np_resource = np.dtype([(\"resource\", np.ubyte, 1)])\n"
     ]
    }
   ],
   "source": [
    "from PIL import Image\n",
    "import tensorflow as tf\n",
    "import scipy.ndimage\n",
    "from scipy import misc\n",
    "\n",
    "from scipy.interpolate import RectBivariateSpline\n",
    "import numpy as np\n",
    "import numpy.matlib as ml\n",
    "import random\n",
    "import time\n",
    "import os\n",
    "import gc\n",
    "import scipy.io\n",
    "\n",
    "import matplotlib.pyplot as plt\n",
    "%matplotlib inline\n",
    "\n",
    "import sys\n",
    "sys.path.append(\"C:/Users/fedor/.conda/envs/tf-gpu/Lib/site-packages/tensorflow/contrib/slim\")"
   ]
  },
  {
   "cell_type": "code",
   "execution_count": 2,
   "metadata": {},
   "outputs": [
    {
     "name": "stdout",
     "output_type": "stream",
     "text": [
      "WARNING:tensorflow:\n",
      "The TensorFlow contrib module will not be included in TensorFlow 2.0.\n",
      "For more information, please see:\n",
      "  * https://github.com/tensorflow/community/blob/master/rfcs/20180907-contrib-sunset.md\n",
      "  * https://github.com/tensorflow/addons\n",
      "  * https://github.com/tensorflow/io (for I/O related ops)\n",
      "If you depend on functionality not listed there, please file an issue.\n",
      "\n"
     ]
    }
   ],
   "source": [
    "tf.reset_default_graph()\n",
    "slim = tf.contrib.slim"
   ]
  },
  {
   "cell_type": "code",
   "execution_count": 3,
   "metadata": {},
   "outputs": [
    {
     "name": "stdout",
     "output_type": "stream",
     "text": [
      "starting the job...\n"
     ]
    }
   ],
   "source": [
    "print(\"starting the job...\")\n",
    "\n",
    "num_out = 5    #number ouf output parameters being predicted\n",
    "\n",
    "global numpix_side \n",
    "numpix_side = 192   #number of image pixels on the side\n",
    "\n",
    "global max_noise_rms, max_psf_rms , max_cr_intensity\n",
    "max_trainoise_rms = 0.1 # maximum rms of noise in training data\n",
    "max_testnoise_rms = 0.1 # maximum rms of noise in test or validation data\n",
    "max_noise_rms = max_testnoise_rms\n",
    "\n",
    "max_psf_rms = 0.08/0.04  # maximum Gaussian PSF rms (in pixels)\n",
    "max_cr_intensity = 0.5 # maximum scaling for cosmic ray and artefact maps\n",
    "\n",
    "global constant_noise_rms\n",
    "variable_noise_rms = True  #if True, the noise rms will be chosen randomly for each sample with a max of max_noise_rms (above)\n",
    "\n",
    "global pix_res\n",
    "pix_res = 0.04 # pixel size in arcsec\n",
    "L_side = pix_res * numpix_side\n",
    "\n",
    "global arcs_data_path_1, arcs_data_path_2 , test_data_path_1 , test_data_path_2 , CRay_data_path\n",
    "global lens_data_path_1, lens_data_path_2, testlens_data_path_1, testlens_data_path_2 \n",
    "\n",
    "global min_unmasked_flux \n",
    "min_unmasked_flux = 0.75\n",
    "\n",
    "#number of folders containing training or test data. If all 3 point to the same folder that's OK (only that folder will be used).\n",
    "global num_data_dirs\n",
    "num_data_dirs = 3\n",
    "\n",
    "num_training_samples = 200\n",
    "\n",
    "PATH_train = 'D:/'\n",
    "PATH_test = 'D:/'\n",
    "\n",
    "arcs_data_path_1 = PATH_train + 'lensed_images/'\n",
    "arcs_data_path_2 = arcs_data_path_1\n",
    "arcs_data_path_3 = arcs_data_path_1\n",
    "\n",
    "test_data_path_1 = PATH_test + 'lensed_images_test/'\n",
    "test_data_path_2 = test_data_path_1\n",
    "test_data_path_3 = test_data_path_1\n",
    "\n",
    "lens_data_path_1 = PATH_train + 'lensed_images/'\n",
    "lens_data_path_2 = lens_data_path_1\n",
    "lens_data_path_3 = lens_data_path_1\n",
    "\n",
    "testlens_data_path_1 = PATH_test + 'lensed_images_test/'\n",
    "testlens_data_path_2 = testlens_data_path_1\n",
    "testlens_data_path_3 = testlens_data_path_1\n",
    "\n",
    "#folder containing cosmic rays\n",
    "CRay_data_path   = '../../data_Ensai/CosmicRays/'\n",
    "\n",
    "global max_xy_range   # xy range of center of the lens. The image is shifted in a central area with a side of max_xy_range (arcsec) during training or testing\n",
    "max_xy_range = 0.5"
   ]
  },
  {
   "cell_type": "code",
   "execution_count": 4,
   "metadata": {},
   "outputs": [],
   "source": [
    "exec(open(\"get_data.py\").read())"
   ]
  },
  {
   "cell_type": "code",
   "execution_count": 5,
   "metadata": {},
   "outputs": [],
   "source": [
    "# %%%%%%%%%%%%%%%%%%%%%%%%%%%%%%%%%%%%%%%%% MODEL DEFINITION\n",
    "\n",
    "x = tf.placeholder(tf.float32, shape=[None, numpix_side*numpix_side])   #placeholder for input image\n",
    "y_ = tf.placeholder(tf.float32, shape=[None,num_out])    #placeholder for output parameters during training\n",
    "x_image0 = tf.reshape(x, [-1,numpix_side,numpix_side,1])\n",
    "\n",
    "# removing image intensity bias: filter image with a 4X4 filter and remove from image\n",
    "MASK = tf.abs(tf.sign(x_image0))\n",
    "XX =  x_image0 +  ( (1-MASK) * 1000.0)\n",
    "bias_measure_filt = tf.constant((1.0/16.0), shape=[4, 4, 1, 1])\n",
    "bias_measure = tf.nn.conv2d( XX , bias_measure_filt , strides=[1, 1, 1, 1], padding='VALID')\n",
    "im_bias = tf.reshape( tf.reduce_min(bias_measure,axis=[1,2,3]) , [-1,1,1,1] )\n",
    "x_image = x_image0 - (im_bias * MASK )"
   ]
  },
  {
   "cell_type": "code",
   "execution_count": 6,
   "metadata": {},
   "outputs": [],
   "source": [
    "# construct models\n",
    "exec(open(\"ensai_model.py\").read())"
   ]
  },
  {
   "cell_type": "code",
   "execution_count": 7,
   "metadata": {},
   "outputs": [
    {
     "name": "stdout",
     "output_type": "stream",
     "text": [
      "['C:\\\\Users\\\\fedor\\\\For jupyter\\\\Ensai\\\\3. Getting parameters', 'C:\\\\Users\\\\fedor\\\\.conda\\\\envs\\\\tf-gpu\\\\python37.zip', 'C:\\\\Users\\\\fedor\\\\.conda\\\\envs\\\\tf-gpu\\\\DLLs', 'C:\\\\Users\\\\fedor\\\\.conda\\\\envs\\\\tf-gpu\\\\lib', 'C:\\\\Users\\\\fedor\\\\.conda\\\\envs\\\\tf-gpu', '', 'C:\\\\Users\\\\fedor\\\\AppData\\\\Roaming\\\\Python\\\\Python37\\\\site-packages', 'C:\\\\Users\\\\fedor\\\\.conda\\\\envs\\\\tf-gpu\\\\lib\\\\site-packages', 'C:\\\\Users\\\\fedor\\\\.conda\\\\envs\\\\tf-gpu\\\\lib\\\\site-packages\\\\win32', 'C:\\\\Users\\\\fedor\\\\.conda\\\\envs\\\\tf-gpu\\\\lib\\\\site-packages\\\\win32\\\\lib', 'C:\\\\Users\\\\fedor\\\\.conda\\\\envs\\\\tf-gpu\\\\lib\\\\site-packages\\\\Pythonwin', 'C:\\\\Users\\\\fedor\\\\.conda\\\\envs\\\\tf-gpu\\\\lib\\\\site-packages\\\\IPython\\\\extensions', 'C:\\\\Users\\\\fedor\\\\.ipython']\n"
     ]
    }
   ],
   "source": [
    "import sys\n",
    "print(sys.path)\n",
    "sys.path.append(\"C:/Users/fedor/.conda/envs/tf-gpu/Lib/site-packages/tensorflow/contrib/slim\")"
   ]
  },
  {
   "cell_type": "code",
   "execution_count": 12,
   "metadata": {
    "collapsed": true,
    "jupyter": {
     "outputs_hidden": true
    }
   },
   "outputs": [
    {
     "name": "stdout",
     "output_type": "stream",
     "text": [
      "WARNING:tensorflow:Entity <bound method Conv.call of <tensorflow.python.layers.convolutional.Conv2D object at 0x000001FA214F8A08>> could not be transformed and will be executed as-is. Please report this to the AutgoGraph team. When filing the bug, set the verbosity to 10 (on Linux, `export AUTOGRAPH_VERBOSITY=10`) and attach the full output. Cause: converting <bound method Conv.call of <tensorflow.python.layers.convolutional.Conv2D object at 0x000001FA214F8A08>>: AssertionError: Bad argument number for Name: 3, expecting 4\n",
      "WARNING: Entity <bound method Conv.call of <tensorflow.python.layers.convolutional.Conv2D object at 0x000001FA214F8A08>> could not be transformed and will be executed as-is. Please report this to the AutgoGraph team. When filing the bug, set the verbosity to 10 (on Linux, `export AUTOGRAPH_VERBOSITY=10`) and attach the full output. Cause: converting <bound method Conv.call of <tensorflow.python.layers.convolutional.Conv2D object at 0x000001FA214F8A08>>: AssertionError: Bad argument number for Name: 3, expecting 4\n",
      "WARNING:tensorflow:Entity <bound method Conv.call of <tensorflow.python.layers.convolutional.Conv2D object at 0x000001FA214F8F48>> could not be transformed and will be executed as-is. Please report this to the AutgoGraph team. When filing the bug, set the verbosity to 10 (on Linux, `export AUTOGRAPH_VERBOSITY=10`) and attach the full output. Cause: converting <bound method Conv.call of <tensorflow.python.layers.convolutional.Conv2D object at 0x000001FA214F8F48>>: AssertionError: Bad argument number for Name: 3, expecting 4\n",
      "WARNING: Entity <bound method Conv.call of <tensorflow.python.layers.convolutional.Conv2D object at 0x000001FA214F8F48>> could not be transformed and will be executed as-is. Please report this to the AutgoGraph team. When filing the bug, set the verbosity to 10 (on Linux, `export AUTOGRAPH_VERBOSITY=10`) and attach the full output. Cause: converting <bound method Conv.call of <tensorflow.python.layers.convolutional.Conv2D object at 0x000001FA214F8F48>>: AssertionError: Bad argument number for Name: 3, expecting 4\n",
      "WARNING:tensorflow:Entity <bound method Pooling2D.call of <tensorflow.python.layers.pooling.MaxPooling2D object at 0x000001FA214F8488>> could not be transformed and will be executed as-is. Please report this to the AutgoGraph team. When filing the bug, set the verbosity to 10 (on Linux, `export AUTOGRAPH_VERBOSITY=10`) and attach the full output. Cause: converting <bound method Pooling2D.call of <tensorflow.python.layers.pooling.MaxPooling2D object at 0x000001FA214F8488>>: AssertionError: Bad argument number for Name: 3, expecting 4\n",
      "WARNING: Entity <bound method Pooling2D.call of <tensorflow.python.layers.pooling.MaxPooling2D object at 0x000001FA214F8488>> could not be transformed and will be executed as-is. Please report this to the AutgoGraph team. When filing the bug, set the verbosity to 10 (on Linux, `export AUTOGRAPH_VERBOSITY=10`) and attach the full output. Cause: converting <bound method Pooling2D.call of <tensorflow.python.layers.pooling.MaxPooling2D object at 0x000001FA214F8488>>: AssertionError: Bad argument number for Name: 3, expecting 4\n",
      "WARNING:tensorflow:Entity <bound method Conv.call of <tensorflow.python.layers.convolutional.Conv2D object at 0x000001FA214F8F48>> could not be transformed and will be executed as-is. Please report this to the AutgoGraph team. When filing the bug, set the verbosity to 10 (on Linux, `export AUTOGRAPH_VERBOSITY=10`) and attach the full output. Cause: converting <bound method Conv.call of <tensorflow.python.layers.convolutional.Conv2D object at 0x000001FA214F8F48>>: AssertionError: Bad argument number for Name: 3, expecting 4\n",
      "WARNING: Entity <bound method Conv.call of <tensorflow.python.layers.convolutional.Conv2D object at 0x000001FA214F8F48>> could not be transformed and will be executed as-is. Please report this to the AutgoGraph team. When filing the bug, set the verbosity to 10 (on Linux, `export AUTOGRAPH_VERBOSITY=10`) and attach the full output. Cause: converting <bound method Conv.call of <tensorflow.python.layers.convolutional.Conv2D object at 0x000001FA214F8F48>>: AssertionError: Bad argument number for Name: 3, expecting 4\n",
      "WARNING:tensorflow:Entity <bound method Pooling2D.call of <tensorflow.python.layers.pooling.MaxPooling2D object at 0x000001FA22955188>> could not be transformed and will be executed as-is. Please report this to the AutgoGraph team. When filing the bug, set the verbosity to 10 (on Linux, `export AUTOGRAPH_VERBOSITY=10`) and attach the full output. Cause: converting <bound method Pooling2D.call of <tensorflow.python.layers.pooling.MaxPooling2D object at 0x000001FA22955188>>: AssertionError: Bad argument number for Name: 3, expecting 4\n",
      "WARNING: Entity <bound method Pooling2D.call of <tensorflow.python.layers.pooling.MaxPooling2D object at 0x000001FA22955188>> could not be transformed and will be executed as-is. Please report this to the AutgoGraph team. When filing the bug, set the verbosity to 10 (on Linux, `export AUTOGRAPH_VERBOSITY=10`) and attach the full output. Cause: converting <bound method Pooling2D.call of <tensorflow.python.layers.pooling.MaxPooling2D object at 0x000001FA22955188>>: AssertionError: Bad argument number for Name: 3, expecting 4\n",
      "WARNING:tensorflow:Entity <bound method Conv.call of <tensorflow.python.layers.convolutional.Conv2D object at 0x000001FA228D0BC8>> could not be transformed and will be executed as-is. Please report this to the AutgoGraph team. When filing the bug, set the verbosity to 10 (on Linux, `export AUTOGRAPH_VERBOSITY=10`) and attach the full output. Cause: converting <bound method Conv.call of <tensorflow.python.layers.convolutional.Conv2D object at 0x000001FA228D0BC8>>: AssertionError: Bad argument number for Name: 3, expecting 4\n",
      "WARNING: Entity <bound method Conv.call of <tensorflow.python.layers.convolutional.Conv2D object at 0x000001FA228D0BC8>> could not be transformed and will be executed as-is. Please report this to the AutgoGraph team. When filing the bug, set the verbosity to 10 (on Linux, `export AUTOGRAPH_VERBOSITY=10`) and attach the full output. Cause: converting <bound method Conv.call of <tensorflow.python.layers.convolutional.Conv2D object at 0x000001FA228D0BC8>>: AssertionError: Bad argument number for Name: 3, expecting 4\n",
      "WARNING:tensorflow:Entity <bound method Conv.call of <tensorflow.python.layers.convolutional.Conv2D object at 0x000001FA20688388>> could not be transformed and will be executed as-is. Please report this to the AutgoGraph team. When filing the bug, set the verbosity to 10 (on Linux, `export AUTOGRAPH_VERBOSITY=10`) and attach the full output. Cause: converting <bound method Conv.call of <tensorflow.python.layers.convolutional.Conv2D object at 0x000001FA20688388>>: AssertionError: Bad argument number for Name: 3, expecting 4\n",
      "WARNING: Entity <bound method Conv.call of <tensorflow.python.layers.convolutional.Conv2D object at 0x000001FA20688388>> could not be transformed and will be executed as-is. Please report this to the AutgoGraph team. When filing the bug, set the verbosity to 10 (on Linux, `export AUTOGRAPH_VERBOSITY=10`) and attach the full output. Cause: converting <bound method Conv.call of <tensorflow.python.layers.convolutional.Conv2D object at 0x000001FA20688388>>: AssertionError: Bad argument number for Name: 3, expecting 4\n",
      "WARNING:tensorflow:Entity <bound method Conv.call of <tensorflow.python.layers.convolutional.Conv2D object at 0x000001FA20591508>> could not be transformed and will be executed as-is. Please report this to the AutgoGraph team. When filing the bug, set the verbosity to 10 (on Linux, `export AUTOGRAPH_VERBOSITY=10`) and attach the full output. Cause: converting <bound method Conv.call of <tensorflow.python.layers.convolutional.Conv2D object at 0x000001FA20591508>>: AssertionError: Bad argument number for Name: 3, expecting 4\n",
      "WARNING: Entity <bound method Conv.call of <tensorflow.python.layers.convolutional.Conv2D object at 0x000001FA20591508>> could not be transformed and will be executed as-is. Please report this to the AutgoGraph team. When filing the bug, set the verbosity to 10 (on Linux, `export AUTOGRAPH_VERBOSITY=10`) and attach the full output. Cause: converting <bound method Conv.call of <tensorflow.python.layers.convolutional.Conv2D object at 0x000001FA20591508>>: AssertionError: Bad argument number for Name: 3, expecting 4\n",
      "WARNING:tensorflow:Entity <bound method Pooling2D.call of <tensorflow.python.layers.pooling.MaxPooling2D object at 0x000001FA205A1B88>> could not be transformed and will be executed as-is. Please report this to the AutgoGraph team. When filing the bug, set the verbosity to 10 (on Linux, `export AUTOGRAPH_VERBOSITY=10`) and attach the full output. Cause: converting <bound method Pooling2D.call of <tensorflow.python.layers.pooling.MaxPooling2D object at 0x000001FA205A1B88>>: AssertionError: Bad argument number for Name: 3, expecting 4\n",
      "WARNING: Entity <bound method Pooling2D.call of <tensorflow.python.layers.pooling.MaxPooling2D object at 0x000001FA205A1B88>> could not be transformed and will be executed as-is. Please report this to the AutgoGraph team. When filing the bug, set the verbosity to 10 (on Linux, `export AUTOGRAPH_VERBOSITY=10`) and attach the full output. Cause: converting <bound method Pooling2D.call of <tensorflow.python.layers.pooling.MaxPooling2D object at 0x000001FA205A1B88>>: AssertionError: Bad argument number for Name: 3, expecting 4\n",
      "WARNING:tensorflow:Entity <bound method Conv.call of <tensorflow.python.layers.convolutional.Conv2D object at 0x000001FA214F6BC8>> could not be transformed and will be executed as-is. Please report this to the AutgoGraph team. When filing the bug, set the verbosity to 10 (on Linux, `export AUTOGRAPH_VERBOSITY=10`) and attach the full output. Cause: converting <bound method Conv.call of <tensorflow.python.layers.convolutional.Conv2D object at 0x000001FA214F6BC8>>: AssertionError: Bad argument number for Name: 3, expecting 4\n",
      "WARNING: Entity <bound method Conv.call of <tensorflow.python.layers.convolutional.Conv2D object at 0x000001FA214F6BC8>> could not be transformed and will be executed as-is. Please report this to the AutgoGraph team. When filing the bug, set the verbosity to 10 (on Linux, `export AUTOGRAPH_VERBOSITY=10`) and attach the full output. Cause: converting <bound method Conv.call of <tensorflow.python.layers.convolutional.Conv2D object at 0x000001FA214F6BC8>>: AssertionError: Bad argument number for Name: 3, expecting 4\n",
      "WARNING:tensorflow:Entity <bound method Conv.call of <tensorflow.python.layers.convolutional.Conv2D object at 0x000001FA214F62C8>> could not be transformed and will be executed as-is. Please report this to the AutgoGraph team. When filing the bug, set the verbosity to 10 (on Linux, `export AUTOGRAPH_VERBOSITY=10`) and attach the full output. Cause: converting <bound method Conv.call of <tensorflow.python.layers.convolutional.Conv2D object at 0x000001FA214F62C8>>: AssertionError: Bad argument number for Name: 3, expecting 4\n",
      "WARNING: Entity <bound method Conv.call of <tensorflow.python.layers.convolutional.Conv2D object at 0x000001FA214F62C8>> could not be transformed and will be executed as-is. Please report this to the AutgoGraph team. When filing the bug, set the verbosity to 10 (on Linux, `export AUTOGRAPH_VERBOSITY=10`) and attach the full output. Cause: converting <bound method Conv.call of <tensorflow.python.layers.convolutional.Conv2D object at 0x000001FA214F62C8>>: AssertionError: Bad argument number for Name: 3, expecting 4\n",
      "WARNING:tensorflow:Entity <bound method Conv.call of <tensorflow.python.layers.convolutional.Conv2D object at 0x000001FA214F6808>> could not be transformed and will be executed as-is. Please report this to the AutgoGraph team. When filing the bug, set the verbosity to 10 (on Linux, `export AUTOGRAPH_VERBOSITY=10`) and attach the full output. Cause: converting <bound method Conv.call of <tensorflow.python.layers.convolutional.Conv2D object at 0x000001FA214F6808>>: AssertionError: Bad argument number for Name: 3, expecting 4\n",
      "WARNING: Entity <bound method Conv.call of <tensorflow.python.layers.convolutional.Conv2D object at 0x000001FA214F6808>> could not be transformed and will be executed as-is. Please report this to the AutgoGraph team. When filing the bug, set the verbosity to 10 (on Linux, `export AUTOGRAPH_VERBOSITY=10`) and attach the full output. Cause: converting <bound method Conv.call of <tensorflow.python.layers.convolutional.Conv2D object at 0x000001FA214F6808>>: AssertionError: Bad argument number for Name: 3, expecting 4\n"
     ]
    }
   ],
   "source": [
    "with tf.variable_scope(\"ENSAI\"):\n",
    "    x_input = slim.conv2d(x_image, 3,(3,3),padding='same', scope = 'new')    # x has a dimension of (IMG_SIZE,IMG_SIZE,3) \n",
    "    y_out = model_9(x_input,scope=\"model_9\")"
   ]
  },
  {
   "cell_type": "code",
   "execution_count": 14,
   "metadata": {},
   "outputs": [],
   "source": [
    "variables_to_restore =  slim.get_variables_to_restore(exclude=['ENSAI/model_9/fc8', 'ENSAI/new',\\\n",
    "                                                               'ENSAI/model_9/fc7', 'ENSAI/model_9/fc6'])"
   ]
  },
  {
   "cell_type": "code",
   "execution_count": 15,
   "metadata": {},
   "outputs": [
    {
     "data": {
      "text/plain": [
       "[<tf.Variable 'ENSAI/model_9/conv1/weights:0' shape=(11, 11, 3, 64) dtype=float32_ref>,\n",
       " <tf.Variable 'ENSAI/model_9/conv1/biases:0' shape=(64,) dtype=float32_ref>,\n",
       " <tf.Variable 'ENSAI/model_9/conv2/weights:0' shape=(5, 5, 64, 192) dtype=float32_ref>,\n",
       " <tf.Variable 'ENSAI/model_9/conv2/biases:0' shape=(192,) dtype=float32_ref>,\n",
       " <tf.Variable 'ENSAI/model_9/conv3/weights:0' shape=(3, 3, 192, 384) dtype=float32_ref>,\n",
       " <tf.Variable 'ENSAI/model_9/conv3/biases:0' shape=(384,) dtype=float32_ref>,\n",
       " <tf.Variable 'ENSAI/model_9/conv4/weights:0' shape=(3, 3, 384, 384) dtype=float32_ref>,\n",
       " <tf.Variable 'ENSAI/model_9/conv4/biases:0' shape=(384,) dtype=float32_ref>,\n",
       " <tf.Variable 'ENSAI/model_9/conv5/weights:0' shape=(3, 3, 384, 256) dtype=float32_ref>,\n",
       " <tf.Variable 'ENSAI/model_9/conv5/biases:0' shape=(256,) dtype=float32_ref>]"
      ]
     },
     "execution_count": 15,
     "metadata": {},
     "output_type": "execute_result"
    }
   ],
   "source": [
    "variables_to_restore"
   ]
  },
  {
   "cell_type": "code",
   "execution_count": 16,
   "metadata": {},
   "outputs": [],
   "source": [
    "#Для VGG_16\n",
    "\n",
    "# layer_include_conv = 'ENSAI/vgg_16/conv'\n",
    "# layer_include_fc = 'ENSAI/vgg_16/fc'\n",
    "\n",
    "# include_1 = [layer_include_conv + str(i) for i in range(1,6)]\n",
    "# include_2 = [layer_include_fc + str(i) for i in range(6,8)]\n",
    "# include = include_1 + include_2\n",
    "\n",
    "# variables_to_restore =  slim.get_variables_to_restore(include=include)   #list of variables to save\n",
    "\n",
    "# def rename_1(var):\n",
    "#     return var.op.name[6:]\n",
    "\n",
    "# def rename_2(var):\n",
    "#     if 'conv' in var:\n",
    "#         num_layer = var.split(\"conv\",1)[1][:1]\n",
    "#         if 'weights' in var:\n",
    "#             return var.replace(\"conv\" + num_layer, \"conv\" + num_layer + '/conv' + num_layer + '_1')\n",
    "#         else:\n",
    "#             return var.replace(\"conv\" + num_layer, \"conv\" + num_layer + '/conv' + num_layer + '_2')\n",
    "#     else:\n",
    "#         return var\n",
    "\n",
    "# variables_to_restore = [var for var in variables_to_restore if \"Adam\" not in var.name]\n",
    "# variables_to_restore = {rename_1(var):var for var in variables_to_restore}\n",
    "# variables_to_restore = {rename_2(var): variables_to_restore[var] for var in variables_to_restore}"
   ]
  },
  {
   "cell_type": "code",
   "execution_count": 17,
   "metadata": {},
   "outputs": [],
   "source": [
    "def rename_2(var):\n",
    "    return var.op.name.replace(\"ENSAI/model_9\", \"alexnet_v2\")\n",
    "\n",
    "variables_to_restore = {rename_2(var):var for var in variables_to_restore}"
   ]
  },
  {
   "cell_type": "code",
   "execution_count": 18,
   "metadata": {},
   "outputs": [],
   "source": [
    "#variables_to_save =  slim.get_variables(scope=\"ENSAI/EN_Model\" + str(model_num) )   #list of variables to save\n",
    "#variables_to_restore = variables_to_save   #list of variables to restore (same as save here)\n",
    "train_pars = variables_to_restore  #list of parameters to train"
   ]
  },
  {
   "cell_type": "code",
   "execution_count": 19,
   "metadata": {},
   "outputs": [],
   "source": [
    "# #save_file =  \"../data_Ensai/trained_weights/model_\" + str(model_num) + \".ckpt\"     #path of file to save\n",
    "save_file = '../data_Ensai/trained_weights/model.ckpt'\n",
    "restore_file = save_file   #path of network weights file to restore from\n",
    "\n",
    "RESTORE = True\n",
    "SAVE = True\n",
    "restorer = tf.train.Saver(variables_to_restore)\n",
    "# saver = tf.train.Saver(variables_to_save)\n",
    "\n",
    "# ############## flipping and cost function\n",
    "MeanSquareCost , y_out_flipped = cost_tensor(y_out)"
   ]
  },
  {
   "cell_type": "code",
   "execution_count": 20,
   "metadata": {},
   "outputs": [
    {
     "data": {
      "text/plain": [
       "{'alexnet_v2/conv1/weights': <tf.Variable 'ENSAI/model_9/conv1/weights:0' shape=(11, 11, 3, 64) dtype=float32_ref>,\n",
       " 'alexnet_v2/conv1/biases': <tf.Variable 'ENSAI/model_9/conv1/biases:0' shape=(64,) dtype=float32_ref>,\n",
       " 'alexnet_v2/conv2/weights': <tf.Variable 'ENSAI/model_9/conv2/weights:0' shape=(5, 5, 64, 192) dtype=float32_ref>,\n",
       " 'alexnet_v2/conv2/biases': <tf.Variable 'ENSAI/model_9/conv2/biases:0' shape=(192,) dtype=float32_ref>,\n",
       " 'alexnet_v2/conv3/weights': <tf.Variable 'ENSAI/model_9/conv3/weights:0' shape=(3, 3, 192, 384) dtype=float32_ref>,\n",
       " 'alexnet_v2/conv3/biases': <tf.Variable 'ENSAI/model_9/conv3/biases:0' shape=(384,) dtype=float32_ref>,\n",
       " 'alexnet_v2/conv4/weights': <tf.Variable 'ENSAI/model_9/conv4/weights:0' shape=(3, 3, 384, 384) dtype=float32_ref>,\n",
       " 'alexnet_v2/conv4/biases': <tf.Variable 'ENSAI/model_9/conv4/biases:0' shape=(384,) dtype=float32_ref>,\n",
       " 'alexnet_v2/conv5/weights': <tf.Variable 'ENSAI/model_9/conv5/weights:0' shape=(3, 3, 384, 256) dtype=float32_ref>,\n",
       " 'alexnet_v2/conv5/biases': <tf.Variable 'ENSAI/model_9/conv5/biases:0' shape=(256,) dtype=float32_ref>}"
      ]
     },
     "execution_count": 20,
     "metadata": {},
     "output_type": "execute_result"
    }
   ],
   "source": [
    "variables_to_restore"
   ]
  },
  {
   "cell_type": "code",
   "execution_count": 21,
   "metadata": {},
   "outputs": [
    {
     "data": {
      "text/plain": [
       "{'alexnet_v2/conv1/weights': [11, 11, 3, 64],\n",
       " 'alexnet_v2/fc8/weights/RMSProp_1': [1, 1, 4096, 1001],\n",
       " 'alexnet_v2/fc8/biases/RMSProp_1': [1001],\n",
       " 'alexnet_v2/conv5/weights/RMSProp': [3, 3, 384, 256],\n",
       " 'alexnet_v2/conv5/biases/RMSProp': [256],\n",
       " 'alexnet_v2/conv1/biases': [64],\n",
       " 'alexnet_v2/conv1/weights/RMSProp': [11, 11, 3, 64],\n",
       " 'alexnet_v2/conv1/weights/RMSProp_1': [11, 11, 3, 64],\n",
       " 'alexnet_v2/conv5/weights': [3, 3, 384, 256],\n",
       " 'alexnet_v2/conv5/biases': [256],\n",
       " 'alexnet_v2/conv1/biases/RMSProp': [64],\n",
       " 'alexnet_v2/conv1/biases/RMSProp_1': [64],\n",
       " 'alexnet_v2/conv2/biases/RMSProp': [192],\n",
       " 'alexnet_v2/conv2/biases/RMSProp_1': [192],\n",
       " 'alexnet_v2/conv2/biases': [192],\n",
       " 'alexnet_v2/conv2/weights': [5, 5, 64, 192],\n",
       " 'alexnet_v2/conv2/weights/RMSProp': [5, 5, 64, 192],\n",
       " 'alexnet_v2/conv2/weights/RMSProp_1': [5, 5, 64, 192],\n",
       " 'alexnet_v2/conv3/biases': [384],\n",
       " 'alexnet_v2/conv3/biases/RMSProp': [384],\n",
       " 'alexnet_v2/fc6/weights/RMSProp': [5, 5, 256, 4096],\n",
       " 'alexnet_v2/conv3/weights': [3, 3, 192, 384],\n",
       " 'alexnet_v2/conv3/biases/RMSProp_1': [384],\n",
       " 'alexnet_v2/fc6/weights': [5, 5, 256, 4096],\n",
       " 'alexnet_v2/conv3/weights/RMSProp': [3, 3, 192, 384],\n",
       " 'alexnet_v2/fc6/biases/RMSProp': [4096],\n",
       " 'alexnet_v2/conv3/weights/RMSProp_1': [3, 3, 192, 384],\n",
       " 'alexnet_v2/fc7/weights/RMSProp_1': [1, 1, 4096, 4096],\n",
       " 'alexnet_v2/conv4/biases': [384],\n",
       " 'alexnet_v2/conv4/biases/RMSProp': [384],\n",
       " 'alexnet_v2/fc7/weights': [1, 1, 4096, 4096],\n",
       " 'alexnet_v2/conv4/biases/RMSProp_1': [384],\n",
       " 'alexnet_v2/conv4/weights': [3, 3, 384, 384],\n",
       " 'alexnet_v2/conv4/weights/RMSProp': [3, 3, 384, 384],\n",
       " 'alexnet_v2/conv4/weights/RMSProp_1': [3, 3, 384, 384],\n",
       " 'alexnet_v2/conv5/weights/RMSProp_1': [3, 3, 384, 256],\n",
       " 'alexnet_v2/conv5/biases/RMSProp_1': [256],\n",
       " 'alexnet_v2/fc6/biases': [4096],\n",
       " 'alexnet_v2/fc6/biases/RMSProp_1': [4096],\n",
       " 'alexnet_v2/fc6/weights/RMSProp_1': [5, 5, 256, 4096],\n",
       " 'alexnet_v2/fc7/biases': [4096],\n",
       " 'alexnet_v2/fc7/biases/RMSProp_1': [4096],\n",
       " 'alexnet_v2/fc7/biases/RMSProp': [4096],\n",
       " 'alexnet_v2/fc7/weights/RMSProp': [1, 1, 4096, 4096],\n",
       " 'alexnet_v2/fc8/weights': [1, 1, 4096, 1001],\n",
       " 'alexnet_v2/fc8/biases': [1001],\n",
       " 'alexnet_v2/fc8/weights/RMSProp': [1, 1, 4096, 1001],\n",
       " 'alexnet_v2/fc8/biases/RMSProp': [1001],\n",
       " 'global_step': []}"
      ]
     },
     "execution_count": 21,
     "metadata": {},
     "output_type": "execute_result"
    }
   ],
   "source": [
    "reader = tf.train.NewCheckpointReader(restore_file)\n",
    "reader.get_variable_to_shape_map()"
   ]
  },
  {
   "cell_type": "markdown",
   "metadata": {},
   "source": [
    "### Training"
   ]
  },
  {
   "cell_type": "code",
   "execution_count": 22,
   "metadata": {},
   "outputs": [
    {
     "name": "stdout",
     "output_type": "stream",
     "text": [
      "WARNING:tensorflow:From C:\\Users\\fedor\\.conda\\envs\\tf-gpu\\lib\\site-packages\\tensorflow\\python\\ops\\math_grad.py:1250: add_dispatch_support.<locals>.wrapper (from tensorflow.python.ops.array_ops) is deprecated and will be removed in a future version.\n",
      "Instructions for updating:\n",
      "Use tf.where in 2.0, which has the same broadcast rule as np.where\n"
     ]
    }
   ],
   "source": [
    "############### OPTIMIZER:\n",
    "learning_rate = 1e-6\n",
    "train_step = tf.train.AdamOptimizer(learning_rate).minimize(MeanSquareCost,var_list=train_pars)\n",
    "##########################"
   ]
  },
  {
   "cell_type": "code",
   "execution_count": 23,
   "metadata": {},
   "outputs": [],
   "source": [
    "num_batch_samples = 64\n",
    "num_iterations = 1\n",
    "min_eval_cost = 0.2\n",
    "cycle_batch_size = 200\n",
    "X = np.zeros((cycle_batch_size,numpix_side*numpix_side), dtype='float32') ;\n",
    "Y = np.zeros((cycle_batch_size,num_out), dtype='float32' );\n",
    "MAG = np.zeros((cycle_batch_size,1), dtype='float32' );"
   ]
  },
  {
   "cell_type": "code",
   "execution_count": 24,
   "metadata": {},
   "outputs": [],
   "source": [
    "min_unmasked_flux = 0.98\n",
    "num_test_samples = 1000 # number of test samples\n",
    "max_num_test_samples = 1000\n",
    "\n",
    "X_test = np.zeros((num_test_samples,numpix_side*numpix_side), dtype='float32'  );\n",
    "Y_test = np.zeros((num_test_samples,num_out), dtype='float32' );\n",
    "MAG_test = np.zeros((num_test_samples,1), dtype='float32' );\n",
    "Predictions = np.zeros((num_test_samples , num_out ) , dtype='float32' )\n",
    "# max_noise_rms = max_testnoise_rms"
   ]
  },
  {
   "cell_type": "code",
   "execution_count": 26,
   "metadata": {},
   "outputs": [],
   "source": [
    "read_data_batch(X_test, Y_test, MAG_test, max_num_test_samples, 'test')"
   ]
  },
  {
   "cell_type": "code",
   "execution_count": 27,
   "metadata": {},
   "outputs": [],
   "source": [
    "# vars_to_rename = {\n",
    "#     \"ENSAI/vgg_16/conv1/weights\": \"ENSAI/vgg_16/conv1/kernel\",\n",
    "#     \"ENSAI/vgg_16/conv1/biases\": \"ENSAI/vgg_16/conv1/bias\",\n",
    "# }\n",
    "# new_checkpoint_vars = {}\n",
    "# reader = tf.train.NewCheckpointReader(restore_file)\n",
    "# for old_name in reader.get_variable_to_shape_map():\n",
    "#     if old_name in vars_to_rename:\n",
    "#         new_name = vars_to_rename[old_name]\n",
    "#     else:\n",
    "#         new_name = old_name\n",
    "#     new_checkpoint_vars[new_name] = tf.Variable(reader.get_tensor(old_name))\n",
    "\n",
    "# init = tf.global_variables_initializer()\n",
    "# restorer = tf.train.Saver(new_checkpoint_vars)"
   ]
  },
  {
   "cell_type": "code",
   "execution_count": 28,
   "metadata": {},
   "outputs": [
    {
     "name": "stdout",
     "output_type": "stream",
     "text": [
      "WARNING:tensorflow:From C:\\Users\\fedor\\.conda\\envs\\tf-gpu\\lib\\site-packages\\tensorflow\\python\\training\\saver.py:1276: checkpoint_exists (from tensorflow.python.training.checkpoint_management) is deprecated and will be removed in a future version.\n",
      "Instructions for updating:\n",
      "Use standard file APIs to check for files with this prefix.\n",
      "INFO:tensorflow:Restoring parameters from ../data_Ensai/trained_weights/model.ckpt\n"
     ]
    }
   ],
   "source": [
    "sess = tf.Session()\n",
    "sess.run(tf.global_variables_initializer())\n",
    "\n",
    "if RESTORE:\n",
    "    restorer.restore(sess, restore_file)"
   ]
  },
  {
   "cell_type": "code",
   "execution_count": 29,
   "metadata": {},
   "outputs": [],
   "source": [
    "n = 0\n",
    "ind_t = range(num_test_samples)\n",
    "train_cost = 0\n",
    "write_time = time.time()\n",
    "start_time = time.time()\n",
    "\n",
    "log_file = open(\"log_file.txt\",\"w\")\n",
    "log_file.close()"
   ]
  },
  {
   "cell_type": "code",
   "execution_count": 36,
   "metadata": {},
   "outputs": [],
   "source": [
    "model_num = '_AlexNet_reinforcment'\n",
    "cycle_batch_size = 64\n",
    "num_iterations = int(num_training_samples/cycle_batch_size)"
   ]
  },
  {
   "cell_type": "code",
   "execution_count": 37,
   "metadata": {},
   "outputs": [
    {
     "data": {
      "text/plain": [
       "12306"
      ]
     },
     "execution_count": 37,
     "metadata": {},
     "output_type": "execute_result"
    }
   ],
   "source": [
    "num_training_samples"
   ]
  },
  {
   "cell_type": "code",
   "execution_count": 38,
   "metadata": {},
   "outputs": [
    {
     "name": "stdout",
     "output_type": "stream",
     "text": [
      "mod _AlexNet_reinforcment, lr: 1e-06, [0.8  0.33 0.35 0.17 0.16]\n",
      "                                         0000    0019    0.69404    0.61707    0.20000   16.173\n",
      "mod _AlexNet_reinforcment, lr: 1e-06, [0.8  0.33 0.35 0.17 0.16]\n",
      "                                         0000    0039    0.69221    0.61569    0.20000   0.727\n",
      "mod _AlexNet_reinforcment, lr: 1e-06, [0.8  0.33 0.35 0.17 0.16]\n",
      "                                         0000    0059    0.69032    0.61426    0.20000   0.730\n",
      "mod _AlexNet_reinforcment, lr: 1e-06, [0.8  0.33 0.35 0.17 0.16]\n",
      "                                         0000    0079    0.68839    0.61278    0.20000   0.725\n",
      "mod _AlexNet_reinforcment, lr: 1e-06, [0.8  0.33 0.35 0.17 0.16]\n",
      "                                         0000    0099    0.68643    0.61126    0.20000   0.724\n",
      "mod _AlexNet_reinforcment, lr: 1e-06, [0.8  0.33 0.35 0.17 0.16]\n",
      "                                         0000    0119    0.68445    0.60971    0.20000   0.726\n",
      "mod _AlexNet_reinforcment, lr: 1e-06, [0.8  0.33 0.35 0.17 0.16]\n",
      "                                         0000    0139    0.68244    0.60812    0.20000   0.729\n",
      "mod _AlexNet_reinforcment, lr: 1e-06, [0.8  0.33 0.35 0.17 0.16]\n",
      "                                         0000    0159    0.68040    0.60648    0.20000   0.729\n",
      "mod _AlexNet_reinforcment, lr: 1e-06, [0.8  0.33 0.35 0.17 0.16]\n",
      "                                         0000    0179    0.67835    0.60482    0.20000   0.731\n"
     ]
    }
   ],
   "source": [
    "for i_sample in range(1):\n",
    "        if i_sample%1 == 0:\n",
    "\n",
    "            max_noise_rms = max_trainoise_rms\n",
    "            min_unmasked_flux = 0.75\n",
    "            read_data_batch( X , Y , MAG , num_training_samples , 'train' )\n",
    "\n",
    "        for i in range(num_iterations):\n",
    "            n = n + 1\n",
    "\n",
    "            if cycle_batch_size==num_batch_samples:\n",
    "                ind = range(num_batch_samples)\n",
    "            else:\n",
    "                ind = np.random.randint(0, high=num_batch_samples, size=cycle_batch_size)\n",
    "\n",
    "            xA = X[ind]\n",
    "            yA = Y[ind]\n",
    "\n",
    "        # once every 20 iterations evaluate things for the validation set.\n",
    "        \n",
    "            print_per = 20\n",
    "            if n%print_per == 1:\n",
    "                        gc.collect()\n",
    "                        train_cost = sess.run(MeanSquareCost, feed_dict={x:xA, y_: yA} )\n",
    "\n",
    "                        sum_rms = 0\n",
    "                        eval_cost = 0\n",
    "                        chunk_size = 50\n",
    "                        num_chunks = int(num_test_samples/chunk_size)\n",
    "                        for it in range(num_chunks):\n",
    "                                eval_cost  = eval_cost + sess.run(MeanSquareCost, feed_dict={x: X_test[ind_t[0+chunk_size*it:chunk_size+chunk_size*it]], y_: Y_test[ind_t[0+chunk_size*it:chunk_size+chunk_size*it],:]})\n",
    "                                A = sess.run(y_out , feed_dict={ x: X_test[ind_t[0+chunk_size*it:chunk_size+chunk_size*it]]})\n",
    "                                B = sess.run(y_out_flipped , feed_dict={ x: X_test[ind_t[0+chunk_size*it:chunk_size+chunk_size*it]]})\n",
    "                                Predictions[ind_t[0+chunk_size*it:chunk_size+chunk_size*it],:] = get_rotation_corrected(A,B,Y_test[ind_t[0+chunk_size*it:chunk_size+chunk_size*it],:])\n",
    "                                sum_rms = sum_rms + np.std(Predictions[ind_t[0+chunk_size*it:chunk_size+chunk_size*it],:]- \\\n",
    "                                                           Y_test[ind_t[0+chunk_size*it:chunk_size+chunk_size*it],:],axis=0)\n",
    "                        eval_cost = eval_cost / num_chunks\n",
    "                        print(\"mod \"+ str(model_num) + \", lr: \" + str(learning_rate) + \", \"  + np.array_str( sum_rms/num_chunks  ,precision=2) )\n",
    "\n",
    "\n",
    "            # show the iteration number, training cost, validation cost, and the average time per iteration for training\n",
    "                        print(\"                                         %0.4d    %0.4d    %0.5f    %0.5f    %0.5f   %0.3f\"%(i_sample,i,train_cost,eval_cost,min_eval_cost,(time.time()-start_time)/print_per)) \n",
    "                        start_time = time.time()\n",
    "                        \n",
    "                        log_file = open(\"log_file.txt\",\"a\")\n",
    "                        log_file.write('%d ' % (i_sample) + ' '.join(map(str,sum_rms/num_chunks)) + ' %0.5f %0.5f\\n' % (train_cost,eval_cost) )\n",
    "                        log_file.close()               \n",
    "                    \n",
    "                        if  SAVE & (eval_cost<min_eval_cost) & (n>20): # save file when validation cost drops\n",
    "                                print(\"saving weights to the disk (eval) ...\")\n",
    "                                save_path = saver.save(sess, save_file)\n",
    "                                print(\"done.\")\n",
    "                        min_eval_cost = np.minimum(min_eval_cost,eval_cost)\n",
    "            sess.run(train_step, feed_dict={x: xA, y_: yA})"
   ]
  },
  {
   "cell_type": "code",
   "execution_count": 40,
   "metadata": {},
   "outputs": [
    {
     "name": "stdout",
     "output_type": "stream",
     "text": [
      "mod _AlexNet_reinforcment, lr: 1e-06, [0.8  0.33 0.35 0.17 0.16]\n"
     ]
    }
   ],
   "source": [
    "sum_rms = 0\n",
    "eval_cost = 0\n",
    "chunk_size = 50\n",
    "num_chunks = int(num_test_samples/chunk_size)\n",
    "for it in range(num_chunks):\n",
    "        eval_cost  = eval_cost + sess.run(MeanSquareCost, feed_dict={x: X_test[ind_t[0+chunk_size*it:chunk_size+chunk_size*it]], y_: Y_test[ind_t[0+chunk_size*it:chunk_size+chunk_size*it],:]})\n",
    "        A = sess.run(y_out , feed_dict={ x: X_test[ind_t[0+chunk_size*it:chunk_size+chunk_size*it]]})\n",
    "        B = sess.run(y_out_flipped , feed_dict={ x: X_test[ind_t[0+chunk_size*it:chunk_size+chunk_size*it]]})\n",
    "        Predictions[ind_t[0+chunk_size*it:chunk_size+chunk_size*it],:] = get_rotation_corrected(A,B,Y_test[ind_t[0+chunk_size*it:chunk_size+chunk_size*it],:])\n",
    "        sum_rms = sum_rms + np.std(Predictions[ind_t[0+chunk_size*it:chunk_size+chunk_size*it],:]- \\\n",
    "                                   Y_test[ind_t[0+chunk_size*it:chunk_size+chunk_size*it],:],axis=0)\n",
    "eval_cost = eval_cost / num_chunks\n",
    "print(\"mod \"+ str(model_num) + \", lr: \" + str(learning_rate) + \", \"  + np.array_str( sum_rms/num_chunks  ,precision=2) )"
   ]
  },
  {
   "cell_type": "code",
   "execution_count": 42,
   "metadata": {},
   "outputs": [],
   "source": [
    "import matplotlib.pyplot as plt\n",
    "%matplotlib inline"
   ]
  },
  {
   "cell_type": "code",
   "execution_count": 44,
   "metadata": {},
   "outputs": [
    {
     "data": {
      "text/plain": [
       "Text(0.5, 0, 'y (true)')"
      ]
     },
     "execution_count": 44,
     "metadata": {},
     "output_type": "execute_result"
    },
    {
     "data": {
      "image/png": "[encoded data removed]",
      "text/plain": [
       "<Figure size 1440x288 with 5 Axes>"
      ]
     },
     "metadata": {
      "needs_background": "light"
     },
     "output_type": "display_data"
    }
   ],
   "source": [
    "# And here's the fun part:\n",
    "# plot the recovered parameters (y-axis) against their true values (x-axis)\n",
    "\n",
    "plt.figure(figsize=(20, 4))\n",
    "plt.subplot(1, 5, 1)\n",
    "plt.plot(Y_test[:,0],Predictions[:,0],' .')\n",
    "plt.plot([0 , 3.5],[0 , 3.5],'--r')\n",
    "plt.xlabel(\"Ein rad (true)\")\n",
    "plt.ylabel(\"Ein rad (predict)\")\n",
    "#plt.axis([0 ,3 ,0 ,3])\n",
    "\n",
    "plt.subplot(1, 5, 2)\n",
    "plt.plot(Y_test[:,1],Predictions[:,1],' .')\n",
    "plt.plot([-1 , 1.],[-1 , 1.],'--r')\n",
    "plt.xlabel(\"elp x (true)\")\n",
    "plt.axis([-1 ,1 ,-1 ,1])\n",
    "\n",
    "\n",
    "plt.subplot(1, 5, 3)\n",
    "plt.plot(Y_test[:,2],Predictions[:,2],' .')\n",
    "plt.plot([-1 , 1.],[-1 , 1.],'--r')\n",
    "plt.xlabel(\"elp y (true)\")\n",
    "plt.axis([-1 ,1 ,-1 ,1])\n",
    "\n",
    "\n",
    "plt.subplot(1, 5, 4)\n",
    "plt.plot(Y_test[:,3],Predictions[:,3],' .')\n",
    "#plt.plot([-0.4 , 0.4],[-0.4 , 0.4],'--r')\n",
    "plt.xlabel(\"x (true)\")\n",
    "#plt.axis([-0.4 ,0.4 ,-0.4 ,0.4])\n",
    "\n",
    "\n",
    "plt.subplot(1, 5, 5)\n",
    "plt.plot(Y_test[:,4],Predictions[:,4],' .')\n",
    "#plt.plot([-0.4 , 0.4],[-0.4 , 0.4],'--r')\n",
    "plt.xlabel(\"y (true)\")\n",
    "#plt.axis([-0.4 ,0.4 ,-0.4 ,0.4])"
   ]
  },
  {
   "cell_type": "code",
   "execution_count": null,
   "metadata": {},
   "outputs": [],
   "source": []
  }
 ],
 "metadata": {
  "kernelspec": {
   "display_name": "tf-gpu",
   "language": "python",
   "name": "tf-gpu"
  },
  "language_info": {
   "codemirror_mode": {
    "name": "ipython",
    "version": 3
   },
   "file_extension": ".py",
   "mimetype": "text/x-python",
   "name": "python",
   "nbconvert_exporter": "python",
   "pygments_lexer": "ipython3",
   "version": "3.7.6"
  }
 },
 "nbformat": 4,
 "nbformat_minor": 4
}
